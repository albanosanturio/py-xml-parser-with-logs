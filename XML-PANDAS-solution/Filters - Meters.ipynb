{
 "cells": [
  {
   "cell_type": "code",
   "execution_count": 264,
   "id": "fd88abe1",
   "metadata": {},
   "outputs": [],
   "source": [
    "import pandas as pd\n",
    "import glob\n",
    "import random\n",
    "import polars as pl\n",
    "\n",
    "import hashlib\n",
    "import os\n",
    "\n",
    "from datetime import datetime, timedelta"
   ]
  },
  {
   "cell_type": "code",
   "execution_count": 324,
   "id": "2f73e7f4",
   "metadata": {},
   "outputs": [],
   "source": [
    "energy_type_dict = {\n",
    "    'Electric': 'E',\n",
    "    'Gas': 'G',\n",
    "    'Water': 'W'\n",
    "}\n",
    "\n",
    "energy_units_dict = {\n",
    "    '1' : 'kWh',\n",
    "    '101' : 'kWh',\n",
    "    '2' : 'kWh',\n",
    "    '102' : 'kWh',\n",
    "    '21': 'kVARh',\n",
    "    '121': 'kVARh',\n",
    "    '31': 'kCCF', # Validate this\n",
    "    '131': 'kCCF' # Validate this\n",
    "}\n",
    "\n",
    "\n",
    "energy_directions_dict = {\n",
    "    '1' : 'delivered',\n",
    "    '101' : 'delivered',\n",
    "    '2' : 'received',\n",
    "    '102' : 'received',\n",
    "    '21': 'delivered',\n",
    "    '121': 'delivered',\n",
    "    '31': 'N/A', # Validate this\n",
    "    '131': 'N/A' # Validate this\n",
    "    \n",
    "}\n",
    "\n",
    "channel_id_dict = {\n",
    "    '1' : 'usage_delivered',\n",
    "    '101' : 'usage_delivered',\n",
    "    '2' : 'usage_received',\n",
    "    '102' : 'usage_received',\n",
    "    '21': 'reactive_delivered',\n",
    "    '121': 'reactive_delivered',\n",
    "    '31': 'N/A', # Validate this\n",
    "    '131': 'N/A' # Validate this\n",
    "}\n",
    " \n",
    "unit_to_kilounit = lambda x: x / 1_000\n",
    "value_tranformation_dict = {\n",
    "    '1' : unit_to_kilounit,\n",
    "    '101' : unit_to_kilounit,\n",
    "    '2' : unit_to_kilounit,\n",
    "    '102' : unit_to_kilounit,\n",
    "    '21': unit_to_kilounit,\n",
    "    '121': unit_to_kilounit,\n",
    "    '31': lambda x: x , # By the moment Identity\n",
    "    '131':lambda x: x , # By the moment Identity\n",
    "}\n",
    "\n",
    "opco_dict ={\n",
    "    '1160': 'NYSEG', \n",
    "    '1000': 'RGE',\n",
    "    'MISSING': 'CMP'\n",
    "}\n",
    "\n",
    "df_approved_channels = pl.DataFrame({'channel_id':list(energy_units_dict.keys())})\n",
    "\n",
    "list_final_order_file = [\"service_point_id\",\"meter_id\",\"timestamp\",\"timezone\",\"interval_value\",\"interval_units\",\"usage\",\"energy_type\",\"energy_units\",\"energy_direction\",\"is_estimate\",\"is_outage\",\"channel_id\",\"is_deleted\",\"update_datetime\"]\n",
    "\n",
    "df_readings_code = pl.read_parquet('C:\\\\Users\\sqyan\\\\NTT DATA EMEAL\\IEDR - Documents\\IEDR - IT\\\\000 - Data Specifications (NYSERDA)\\Customer Data\\Sample Data Delivery August 1st 2023\\MeterReadingSync_parquet\\STATUSCODES-AMI.parquet').select('ReadingStatusRef','SourceValidation','StatusCodes').unique()"
   ]
  },
  {
   "cell_type": "code",
   "execution_count": 327,
   "id": "c2de6e2c",
   "metadata": {},
   "outputs": [
    {
     "data": {
      "text/html": [
       "<div><style>\n",
       ".dataframe > thead > tr > th,\n",
       ".dataframe > tbody > tr > td {\n",
       "  text-align: right;\n",
       "}\n",
       "</style>\n",
       "<small>shape: (5, 5)</small><table border=\"1\" class=\"dataframe\"><thead><tr><th>ReadingStatusRef</th><th>SourceValidation</th><th>StatusCodes</th><th>is_estimate</th><th>is_outage</th></tr><tr><td>str</td><td>str</td><td>str</td><td>bool</td><td>bool</td></tr></thead><tbody><tr><td>&quot;84&quot;</td><td>&quot;NV&quot;</td><td>&quot;IRREGULAR,NV,V…</td><td>false</td><td>false</td></tr><tr><td>&quot;108&quot;</td><td>&quot;NV&quot;</td><td>&quot;NV,TIMERESET,V…</td><td>false</td><td>false</td></tr><tr><td>&quot;146&quot;</td><td>&quot;NV&quot;</td><td>&quot;IRREGULAR,NV,O…</td><td>false</td><td>false</td></tr><tr><td>&quot;71&quot;</td><td>&quot;NV&quot;</td><td>&quot;ESTIMATED,ESTU…</td><td>true</td><td>false</td></tr><tr><td>&quot;82&quot;</td><td>&quot;NV&quot;</td><td>&quot;NV,POWER,VEESE…</td><td>false</td><td>true</td></tr></tbody></table></div>"
      ],
      "text/plain": [
       "shape: (5, 5)\n",
       "┌──────────────────┬──────────────────┬───────────────────────────────────┬─────────────┬───────────┐\n",
       "│ ReadingStatusRef ┆ SourceValidation ┆ StatusCodes                       ┆ is_estimate ┆ is_outage │\n",
       "│ ---              ┆ ---              ┆ ---                               ┆ ---         ┆ ---       │\n",
       "│ str              ┆ str              ┆ str                               ┆ bool        ┆ bool      │\n",
       "╞══════════════════╪══════════════════╪═══════════════════════════════════╪═════════════╪═══════════╡\n",
       "│ 84               ┆ NV               ┆ IRREGULAR,NV,VEESET1PV,VEESET2NV… ┆ false       ┆ false     │\n",
       "│ 108              ┆ NV               ┆ NV,TIMERESET,VEESET1PV,VEESET2NV… ┆ false       ┆ false     │\n",
       "│ 146              ┆ NV               ┆ IRREGULAR,NV,OTHER,TIMERESET,VEE… ┆ false       ┆ false     │\n",
       "│ 71               ┆ NV               ┆ ESTIMATED,ESTUNSCALED,GAP,NV,VEE… ┆ true        ┆ false     │\n",
       "│ 82               ┆ NV               ┆ NV,POWER,VEESET1PV,VEESET2NV,VEE… ┆ false       ┆ true      │\n",
       "└──────────────────┴──────────────────┴───────────────────────────────────┴─────────────┴───────────┘"
      ]
     },
     "execution_count": 327,
     "metadata": {},
     "output_type": "execute_result"
    }
   ],
   "source": [
    "df_readings_code = df_readings_code.with_columns(\n",
    "    pl.col('StatusCodes').apply(lambda x: any([s.startswith('EST') for s in x.split(',')])).alias('is_estimate'), # if the code starts with EST, then is_estimated = True else is_estimated = False\n",
    "    pl.col('StatusCodes').apply(lambda x: any([s.startswith('POWER') for s in x.split(',')])).alias('is_outage'), # if the code starts with POWER, then is_outage = True else is_outage = False\n",
    ")\n",
    "df_readings_code.head()"
   ]
  },
  {
   "cell_type": "code",
   "execution_count": 5,
   "id": "94ea9928",
   "metadata": {},
   "outputs": [
    {
     "data": {
      "text/plain": [
       "197"
      ]
     },
     "execution_count": 5,
     "metadata": {},
     "output_type": "execute_result"
    }
   ],
   "source": [
    "input_parquet = 'C:\\\\Users\\sqyan\\\\NTT DATA EMEAL\\IEDR - Documents\\IEDR - IT\\\\000 - Data Specifications (NYSERDA)\\Customer Data\\Sample Data Delivery August 1st 2023\\MeterReadingSyncSave_manual_output_new_\\*.parquet'\n",
    "input_parquet = 'C:\\\\Users\\sqyan\\Documents\\Customer Data - AMI\\MeterReadingSyncSave_parquet\\*.parquet'\n",
    "input_parquet = 'C:\\\\Users\\sqyan\\\\NTT DATA EMEAL\\IEDR - Documents\\IEDR - IT\\\\000 - Data Specifications (NYSERDA)\\Customer Data\\Sample Data Delivery August 1st 2023\\MeterReadingSync_parquet\\AMI-*.parquet'\n",
    "files_path = glob.glob(input_parquet)\n",
    "len(files_path)"
   ]
  },
  {
   "cell_type": "code",
   "execution_count": 106,
   "id": "5ea10531",
   "metadata": {},
   "outputs": [],
   "source": [
    "df_5_min_nyseg = pl.read_csv('approved_meters/new_5min_approved_NYSEG.csv')\n",
    "df_5_min_rge = pl.read_csv('approved_meters/new_5min_approved_RGE.csv')"
   ]
  },
  {
   "cell_type": "code",
   "execution_count": 107,
   "id": "c8979c0f",
   "metadata": {},
   "outputs": [],
   "source": [
    "df_5_min_nyseg = df_5_min_nyseg.with_columns(pl.all().cast(pl.Utf8, strict=False))\n",
    "df_5_min_nyseg = df_5_min_nyseg.with_columns(\n",
    "    pl.col('ApprovedDate').str.to_datetime('%m/%d/%Y')\n",
    ")\n",
    "\n",
    "df_5_min_rge = df_5_min_rge.with_columns(pl.all().cast(pl.Utf8, strict=False))\n",
    "df_5_min_rge = df_5_min_rge.with_columns(\n",
    "    pl.col('ApprovedDate').str.to_datetime('%m/%d/%Y')\n",
    ")"
   ]
  },
  {
   "cell_type": "code",
   "execution_count": 108,
   "id": "8ad22192",
   "metadata": {},
   "outputs": [],
   "source": [
    "df_gas_nyseg = pl.read_csv('approved_meters/new_gas_approved_NYSEG.csv')\n",
    "df_gas_rge = pl.read_csv('approved_meters/new_gas_approved_RGE.csv')"
   ]
  },
  {
   "cell_type": "code",
   "execution_count": 109,
   "id": "730d1f48",
   "metadata": {},
   "outputs": [],
   "source": [
    "df_gas_nyseg = df_gas_nyseg.with_columns(pl.all().cast(pl.Utf8, strict=False))\n",
    "df_gas_nyseg = df_gas_nyseg.with_columns(\n",
    "    pl.col('ApprovedDate').str.to_datetime('%m/%d/%Y')\n",
    ")\n",
    "\n",
    "df_gas_rge = df_gas_rge.with_columns(pl.all().cast(pl.Utf8, strict=False))\n",
    "df_gas_rge = df_gas_rge.with_columns(\n",
    "    pl.col('ApprovedDate').str.to_datetime('%m/%d/%Y')\n",
    ")"
   ]
  },
  {
   "cell_type": "code",
   "execution_count": 313,
   "id": "1dbebf17",
   "metadata": {},
   "outputs": [
    {
     "data": {
      "text/html": [
       "<div><style>\n",
       ".dataframe > thead > tr > th,\n",
       ".dataframe > tbody > tr > td {\n",
       "  text-align: right;\n",
       "}\n",
       "</style>\n",
       "<small>shape: (5, 3)</small><table border=\"1\" class=\"dataframe\"><thead><tr><th>Meterid</th><th>ApprovedDate</th><th>CoCd</th></tr><tr><td>str</td><td>datetime[μs]</td><td>str</td></tr></thead><tbody><tr><td>&quot;103253337&quot;</td><td>2023-07-11 00:00:00</td><td>&quot;1000&quot;</td></tr><tr><td>&quot;101580563&quot;</td><td>2023-06-23 00:00:00</td><td>&quot;1000&quot;</td></tr><tr><td>&quot;101680057&quot;</td><td>2023-06-23 00:00:00</td><td>&quot;1000&quot;</td></tr><tr><td>&quot;102588940&quot;</td><td>2023-06-23 00:00:00</td><td>&quot;1000&quot;</td></tr><tr><td>&quot;101465034&quot;</td><td>2023-06-23 00:00:00</td><td>&quot;1000&quot;</td></tr></tbody></table></div>"
      ],
      "text/plain": [
       "shape: (5, 3)\n",
       "┌───────────┬─────────────────────┬──────┐\n",
       "│ Meterid   ┆ ApprovedDate        ┆ CoCd │\n",
       "│ ---       ┆ ---                 ┆ ---  │\n",
       "│ str       ┆ datetime[μs]        ┆ str  │\n",
       "╞═══════════╪═════════════════════╪══════╡\n",
       "│ 103253337 ┆ 2023-07-11 00:00:00 ┆ 1000 │\n",
       "│ 101580563 ┆ 2023-06-23 00:00:00 ┆ 1000 │\n",
       "│ 101680057 ┆ 2023-06-23 00:00:00 ┆ 1000 │\n",
       "│ 102588940 ┆ 2023-06-23 00:00:00 ┆ 1000 │\n",
       "│ 101465034 ┆ 2023-06-23 00:00:00 ┆ 1000 │\n",
       "└───────────┴─────────────────────┴──────┘"
      ]
     },
     "execution_count": 313,
     "metadata": {},
     "output_type": "execute_result"
    }
   ],
   "source": [
    "df_approved_meters = pl.concat([df_gas_rge, df_gas_nyseg])\n",
    "df_approved_meters = df_approved_meters.select(['Meterid', 'ApprovedDate','CoCd'])\n",
    "df_approved_meters.head()"
   ]
  },
  {
   "cell_type": "code",
   "execution_count": 274,
   "id": "640feee6",
   "metadata": {},
   "outputs": [],
   "source": [
    "def filter_dataframe(df_exp):\n",
    "    df_final = df_exp.with_columns(\n",
    "        pl.col('Value').cast(pl.Float64)\n",
    "        # Append the StatusCodes to calculate if is estimate or is outage\n",
    "    ).join(df_readings_code.select('ReadingStatusRef','is_estimate', 'is_outage'), left_on='StatusRef', right_on='ReadingStatusRef', how='left'\n",
    "          ).with_columns(\n",
    "        pl.col('Meterid').alias('service_point_id'),\n",
    "        pl.col('Meterid').alias('meter_id'),\n",
    "        pl.col('ReadingTime').dt.replace_time_zone(\"UTC\").dt.convert_time_zone(time_zone='US/Eastern').dt.strftime('%Y-%m-%dT%H:%M:%S.000%z').alias('timestamp'),\n",
    "        pl.col('ReadingTime').dt.replace_time_zone(\"UTC\").dt.convert_time_zone(time_zone='US/Eastern').dt.strftime('%Z').alias('timezone'),\n",
    "        pl.col('IntervalLength').alias('interval_value'),\n",
    "        pl.lit('minute').alias(\"interval_units\"),\n",
    "        pl.col('Value').mul(0.001).alias('usage'), # Transform to Kilo\n",
    "        pl.col('MarketType').apply(lambda x: energy_type_dict.get(x, None)).alias('energy_type'),\n",
    "        pl.col('channel_id').apply(lambda x: energy_units_dict.get(x, None)).alias('energy_units'),\n",
    "        pl.col('channel_id').apply(lambda x: energy_directions_dict.get(x, None)).alias('energy_direction'),\n",
    "        pl.col('is_estimate'), \n",
    "        pl.col('is_outage'),\n",
    "        pl.col('channel_id').apply(lambda x: channel_id_dict.get(x, None)).alias('channel_id'),\n",
    "        pl.lit('false').alias('is_deleted'),\n",
    "        pl.col('ReadingTime').dt.replace_time_zone(\"UTC\").dt.convert_time_zone(time_zone='US/Eastern').dt.strftime('%Y-%m-%dT%H:%M:%S.000%z').alias('update_datetime'), ## TODO: Missing from the xmls /Header/Creation_Datetime =>\n",
    "        pl.col('CoCd') \n",
    "    )\n",
    "    return df_final.with_columns(\n",
    "        pl.col('timestamp').apply(lambda x: x[:-2] + ':' + x[-2:]), # Change from 0400 to 04:00\n",
    "        pl.col('update_datetime').apply(lambda x: x[:-2] + ':' + x[-2:]) # Change from 0400 to 04:00\n",
    "    ).select([\n",
    "        \"service_point_id\",\n",
    "        \"meter_id\",\n",
    "        \"timestamp\",\n",
    "        \"timezone\",\n",
    "        \"interval_value\",\n",
    "        \"interval_units\",\n",
    "        \"usage\",\n",
    "        \"energy_type\",\n",
    "        \"energy_units\",\n",
    "        \"energy_direction\",\n",
    "        \"is_estimate\",\n",
    "        \"is_outage\",\n",
    "        \"channel_id\",\n",
    "        \"is_deleted\",\n",
    "        \"update_datetime\",\n",
    "        \"CoCd\" # To split by opco during the generation of the TSV\n",
    "    ])"
   ]
  },
  {
   "cell_type": "code",
   "execution_count": 226,
   "id": "c311e948",
   "metadata": {},
   "outputs": [],
   "source": [
    "dfs_back = dfs.copy()"
   ]
  },
  {
   "cell_type": "code",
   "execution_count": 316,
   "id": "32a48c40",
   "metadata": {},
   "outputs": [
    {
     "name": "stdout",
     "output_type": "stream",
     "text": [
      "C:\\Users\\sqyan\\NTT DATA EMEAL\\IEDR - Documents\\IEDR - IT\\000 - Data Specifications (NYSERDA)\\Customer Data\\Sample Data Delivery August 1st 2023\\MeterReadingSync_parquet\\AMI-0-0.parquet\n",
      "C:\\Users\\sqyan\\NTT DATA EMEAL\\IEDR - Documents\\IEDR - IT\\000 - Data Specifications (NYSERDA)\\Customer Data\\Sample Data Delivery August 1st 2023\\MeterReadingSync_parquet\\AMI-0-1.parquet\n",
      "C:\\Users\\sqyan\\NTT DATA EMEAL\\IEDR - Documents\\IEDR - IT\\000 - Data Specifications (NYSERDA)\\Customer Data\\Sample Data Delivery August 1st 2023\\MeterReadingSync_parquet\\AMI-10000-0.parquet\n",
      "C:\\Users\\sqyan\\NTT DATA EMEAL\\IEDR - Documents\\IEDR - IT\\000 - Data Specifications (NYSERDA)\\Customer Data\\Sample Data Delivery August 1st 2023\\MeterReadingSync_parquet\\AMI-10000-1.parquet\n",
      "C:\\Users\\sqyan\\NTT DATA EMEAL\\IEDR - Documents\\IEDR - IT\\000 - Data Specifications (NYSERDA)\\Customer Data\\Sample Data Delivery August 1st 2023\\MeterReadingSync_parquet\\AMI-10400-0.parquet\n",
      "C:\\Users\\sqyan\\NTT DATA EMEAL\\IEDR - Documents\\IEDR - IT\\000 - Data Specifications (NYSERDA)\\Customer Data\\Sample Data Delivery August 1st 2023\\MeterReadingSync_parquet\\AMI-10400-1.parquet\n",
      "C:\\Users\\sqyan\\NTT DATA EMEAL\\IEDR - Documents\\IEDR - IT\\000 - Data Specifications (NYSERDA)\\Customer Data\\Sample Data Delivery August 1st 2023\\MeterReadingSync_parquet\\AMI-10800-0.parquet\n",
      "C:\\Users\\sqyan\\NTT DATA EMEAL\\IEDR - Documents\\IEDR - IT\\000 - Data Specifications (NYSERDA)\\Customer Data\\Sample Data Delivery August 1st 2023\\MeterReadingSync_parquet\\AMI-10800-1.parquet\n",
      "C:\\Users\\sqyan\\NTT DATA EMEAL\\IEDR - Documents\\IEDR - IT\\000 - Data Specifications (NYSERDA)\\Customer Data\\Sample Data Delivery August 1st 2023\\MeterReadingSync_parquet\\AMI-11200-0.parquet\n",
      "C:\\Users\\sqyan\\NTT DATA EMEAL\\IEDR - Documents\\IEDR - IT\\000 - Data Specifications (NYSERDA)\\Customer Data\\Sample Data Delivery August 1st 2023\\MeterReadingSync_parquet\\AMI-11200-1.parquet\n",
      "C:\\Users\\sqyan\\NTT DATA EMEAL\\IEDR - Documents\\IEDR - IT\\000 - Data Specifications (NYSERDA)\\Customer Data\\Sample Data Delivery August 1st 2023\\MeterReadingSync_parquet\\AMI-11600-0.parquet\n",
      "C:\\Users\\sqyan\\NTT DATA EMEAL\\IEDR - Documents\\IEDR - IT\\000 - Data Specifications (NYSERDA)\\Customer Data\\Sample Data Delivery August 1st 2023\\MeterReadingSync_parquet\\AMI-11600-1.parquet\n",
      "C:\\Users\\sqyan\\NTT DATA EMEAL\\IEDR - Documents\\IEDR - IT\\000 - Data Specifications (NYSERDA)\\Customer Data\\Sample Data Delivery August 1st 2023\\MeterReadingSync_parquet\\AMI-1200-0.parquet\n",
      "C:\\Users\\sqyan\\NTT DATA EMEAL\\IEDR - Documents\\IEDR - IT\\000 - Data Specifications (NYSERDA)\\Customer Data\\Sample Data Delivery August 1st 2023\\MeterReadingSync_parquet\\AMI-1200-1.parquet\n",
      "C:\\Users\\sqyan\\NTT DATA EMEAL\\IEDR - Documents\\IEDR - IT\\000 - Data Specifications (NYSERDA)\\Customer Data\\Sample Data Delivery August 1st 2023\\MeterReadingSync_parquet\\AMI-12000-0.parquet\n",
      "C:\\Users\\sqyan\\NTT DATA EMEAL\\IEDR - Documents\\IEDR - IT\\000 - Data Specifications (NYSERDA)\\Customer Data\\Sample Data Delivery August 1st 2023\\MeterReadingSync_parquet\\AMI-12000-1.parquet\n",
      "C:\\Users\\sqyan\\NTT DATA EMEAL\\IEDR - Documents\\IEDR - IT\\000 - Data Specifications (NYSERDA)\\Customer Data\\Sample Data Delivery August 1st 2023\\MeterReadingSync_parquet\\AMI-12400-0.parquet\n",
      "C:\\Users\\sqyan\\NTT DATA EMEAL\\IEDR - Documents\\IEDR - IT\\000 - Data Specifications (NYSERDA)\\Customer Data\\Sample Data Delivery August 1st 2023\\MeterReadingSync_parquet\\AMI-12400-1.parquet\n",
      "C:\\Users\\sqyan\\NTT DATA EMEAL\\IEDR - Documents\\IEDR - IT\\000 - Data Specifications (NYSERDA)\\Customer Data\\Sample Data Delivery August 1st 2023\\MeterReadingSync_parquet\\AMI-12800-0.parquet\n",
      "C:\\Users\\sqyan\\NTT DATA EMEAL\\IEDR - Documents\\IEDR - IT\\000 - Data Specifications (NYSERDA)\\Customer Data\\Sample Data Delivery August 1st 2023\\MeterReadingSync_parquet\\AMI-12800-1.parquet\n",
      "C:\\Users\\sqyan\\NTT DATA EMEAL\\IEDR - Documents\\IEDR - IT\\000 - Data Specifications (NYSERDA)\\Customer Data\\Sample Data Delivery August 1st 2023\\MeterReadingSync_parquet\\AMI-13200-0.parquet\n",
      "C:\\Users\\sqyan\\NTT DATA EMEAL\\IEDR - Documents\\IEDR - IT\\000 - Data Specifications (NYSERDA)\\Customer Data\\Sample Data Delivery August 1st 2023\\MeterReadingSync_parquet\\AMI-13200-1.parquet\n",
      "C:\\Users\\sqyan\\NTT DATA EMEAL\\IEDR - Documents\\IEDR - IT\\000 - Data Specifications (NYSERDA)\\Customer Data\\Sample Data Delivery August 1st 2023\\MeterReadingSync_parquet\\AMI-13600-0.parquet\n",
      "C:\\Users\\sqyan\\NTT DATA EMEAL\\IEDR - Documents\\IEDR - IT\\000 - Data Specifications (NYSERDA)\\Customer Data\\Sample Data Delivery August 1st 2023\\MeterReadingSync_parquet\\AMI-13600-1.parquet\n",
      "C:\\Users\\sqyan\\NTT DATA EMEAL\\IEDR - Documents\\IEDR - IT\\000 - Data Specifications (NYSERDA)\\Customer Data\\Sample Data Delivery August 1st 2023\\MeterReadingSync_parquet\\AMI-14000-0.parquet\n",
      "C:\\Users\\sqyan\\NTT DATA EMEAL\\IEDR - Documents\\IEDR - IT\\000 - Data Specifications (NYSERDA)\\Customer Data\\Sample Data Delivery August 1st 2023\\MeterReadingSync_parquet\\AMI-14000-1.parquet\n",
      "C:\\Users\\sqyan\\NTT DATA EMEAL\\IEDR - Documents\\IEDR - IT\\000 - Data Specifications (NYSERDA)\\Customer Data\\Sample Data Delivery August 1st 2023\\MeterReadingSync_parquet\\AMI-14400-0.parquet\n",
      "C:\\Users\\sqyan\\NTT DATA EMEAL\\IEDR - Documents\\IEDR - IT\\000 - Data Specifications (NYSERDA)\\Customer Data\\Sample Data Delivery August 1st 2023\\MeterReadingSync_parquet\\AMI-14400-1.parquet\n",
      "C:\\Users\\sqyan\\NTT DATA EMEAL\\IEDR - Documents\\IEDR - IT\\000 - Data Specifications (NYSERDA)\\Customer Data\\Sample Data Delivery August 1st 2023\\MeterReadingSync_parquet\\AMI-14800-0.parquet\n",
      "C:\\Users\\sqyan\\NTT DATA EMEAL\\IEDR - Documents\\IEDR - IT\\000 - Data Specifications (NYSERDA)\\Customer Data\\Sample Data Delivery August 1st 2023\\MeterReadingSync_parquet\\AMI-14800-1.parquet\n",
      "C:\\Users\\sqyan\\NTT DATA EMEAL\\IEDR - Documents\\IEDR - IT\\000 - Data Specifications (NYSERDA)\\Customer Data\\Sample Data Delivery August 1st 2023\\MeterReadingSync_parquet\\AMI-15200-0.parquet\n",
      "C:\\Users\\sqyan\\NTT DATA EMEAL\\IEDR - Documents\\IEDR - IT\\000 - Data Specifications (NYSERDA)\\Customer Data\\Sample Data Delivery August 1st 2023\\MeterReadingSync_parquet\\AMI-15200-1.parquet\n",
      "C:\\Users\\sqyan\\NTT DATA EMEAL\\IEDR - Documents\\IEDR - IT\\000 - Data Specifications (NYSERDA)\\Customer Data\\Sample Data Delivery August 1st 2023\\MeterReadingSync_parquet\\AMI-15600-0.parquet\n",
      "C:\\Users\\sqyan\\NTT DATA EMEAL\\IEDR - Documents\\IEDR - IT\\000 - Data Specifications (NYSERDA)\\Customer Data\\Sample Data Delivery August 1st 2023\\MeterReadingSync_parquet\\AMI-15600-1.parquet\n",
      "C:\\Users\\sqyan\\NTT DATA EMEAL\\IEDR - Documents\\IEDR - IT\\000 - Data Specifications (NYSERDA)\\Customer Data\\Sample Data Delivery August 1st 2023\\MeterReadingSync_parquet\\AMI-1600-0.parquet\n",
      "C:\\Users\\sqyan\\NTT DATA EMEAL\\IEDR - Documents\\IEDR - IT\\000 - Data Specifications (NYSERDA)\\Customer Data\\Sample Data Delivery August 1st 2023\\MeterReadingSync_parquet\\AMI-1600-1.parquet\n",
      "C:\\Users\\sqyan\\NTT DATA EMEAL\\IEDR - Documents\\IEDR - IT\\000 - Data Specifications (NYSERDA)\\Customer Data\\Sample Data Delivery August 1st 2023\\MeterReadingSync_parquet\\AMI-16000-0.parquet\n",
      "C:\\Users\\sqyan\\NTT DATA EMEAL\\IEDR - Documents\\IEDR - IT\\000 - Data Specifications (NYSERDA)\\Customer Data\\Sample Data Delivery August 1st 2023\\MeterReadingSync_parquet\\AMI-16000-1.parquet\n",
      "C:\\Users\\sqyan\\NTT DATA EMEAL\\IEDR - Documents\\IEDR - IT\\000 - Data Specifications (NYSERDA)\\Customer Data\\Sample Data Delivery August 1st 2023\\MeterReadingSync_parquet\\AMI-16400-0.parquet\n",
      "C:\\Users\\sqyan\\NTT DATA EMEAL\\IEDR - Documents\\IEDR - IT\\000 - Data Specifications (NYSERDA)\\Customer Data\\Sample Data Delivery August 1st 2023\\MeterReadingSync_parquet\\AMI-16400-1.parquet\n",
      "C:\\Users\\sqyan\\NTT DATA EMEAL\\IEDR - Documents\\IEDR - IT\\000 - Data Specifications (NYSERDA)\\Customer Data\\Sample Data Delivery August 1st 2023\\MeterReadingSync_parquet\\AMI-16800-0.parquet\n",
      "C:\\Users\\sqyan\\NTT DATA EMEAL\\IEDR - Documents\\IEDR - IT\\000 - Data Specifications (NYSERDA)\\Customer Data\\Sample Data Delivery August 1st 2023\\MeterReadingSync_parquet\\AMI-17200-0.parquet\n",
      "C:\\Users\\sqyan\\NTT DATA EMEAL\\IEDR - Documents\\IEDR - IT\\000 - Data Specifications (NYSERDA)\\Customer Data\\Sample Data Delivery August 1st 2023\\MeterReadingSync_parquet\\AMI-17200-1.parquet\n",
      "C:\\Users\\sqyan\\NTT DATA EMEAL\\IEDR - Documents\\IEDR - IT\\000 - Data Specifications (NYSERDA)\\Customer Data\\Sample Data Delivery August 1st 2023\\MeterReadingSync_parquet\\AMI-17600-0.parquet\n"
     ]
    },
    {
     "name": "stdout",
     "output_type": "stream",
     "text": [
      "C:\\Users\\sqyan\\NTT DATA EMEAL\\IEDR - Documents\\IEDR - IT\\000 - Data Specifications (NYSERDA)\\Customer Data\\Sample Data Delivery August 1st 2023\\MeterReadingSync_parquet\\AMI-17600-1.parquet\n",
      "C:\\Users\\sqyan\\NTT DATA EMEAL\\IEDR - Documents\\IEDR - IT\\000 - Data Specifications (NYSERDA)\\Customer Data\\Sample Data Delivery August 1st 2023\\MeterReadingSync_parquet\\AMI-18000-0.parquet\n",
      "C:\\Users\\sqyan\\NTT DATA EMEAL\\IEDR - Documents\\IEDR - IT\\000 - Data Specifications (NYSERDA)\\Customer Data\\Sample Data Delivery August 1st 2023\\MeterReadingSync_parquet\\AMI-18000-1.parquet\n",
      "C:\\Users\\sqyan\\NTT DATA EMEAL\\IEDR - Documents\\IEDR - IT\\000 - Data Specifications (NYSERDA)\\Customer Data\\Sample Data Delivery August 1st 2023\\MeterReadingSync_parquet\\AMI-18400-0.parquet\n",
      "C:\\Users\\sqyan\\NTT DATA EMEAL\\IEDR - Documents\\IEDR - IT\\000 - Data Specifications (NYSERDA)\\Customer Data\\Sample Data Delivery August 1st 2023\\MeterReadingSync_parquet\\AMI-18400-1.parquet\n",
      "C:\\Users\\sqyan\\NTT DATA EMEAL\\IEDR - Documents\\IEDR - IT\\000 - Data Specifications (NYSERDA)\\Customer Data\\Sample Data Delivery August 1st 2023\\MeterReadingSync_parquet\\AMI-18800-0.parquet\n",
      "C:\\Users\\sqyan\\NTT DATA EMEAL\\IEDR - Documents\\IEDR - IT\\000 - Data Specifications (NYSERDA)\\Customer Data\\Sample Data Delivery August 1st 2023\\MeterReadingSync_parquet\\AMI-18800-1.parquet\n",
      "C:\\Users\\sqyan\\NTT DATA EMEAL\\IEDR - Documents\\IEDR - IT\\000 - Data Specifications (NYSERDA)\\Customer Data\\Sample Data Delivery August 1st 2023\\MeterReadingSync_parquet\\AMI-19200-0.parquet\n",
      "C:\\Users\\sqyan\\NTT DATA EMEAL\\IEDR - Documents\\IEDR - IT\\000 - Data Specifications (NYSERDA)\\Customer Data\\Sample Data Delivery August 1st 2023\\MeterReadingSync_parquet\\AMI-19600-0.parquet\n",
      "C:\\Users\\sqyan\\NTT DATA EMEAL\\IEDR - Documents\\IEDR - IT\\000 - Data Specifications (NYSERDA)\\Customer Data\\Sample Data Delivery August 1st 2023\\MeterReadingSync_parquet\\AMI-19600-1.parquet\n",
      "C:\\Users\\sqyan\\NTT DATA EMEAL\\IEDR - Documents\\IEDR - IT\\000 - Data Specifications (NYSERDA)\\Customer Data\\Sample Data Delivery August 1st 2023\\MeterReadingSync_parquet\\AMI-2000-0.parquet\n",
      "C:\\Users\\sqyan\\NTT DATA EMEAL\\IEDR - Documents\\IEDR - IT\\000 - Data Specifications (NYSERDA)\\Customer Data\\Sample Data Delivery August 1st 2023\\MeterReadingSync_parquet\\AMI-2000-1.parquet\n",
      "C:\\Users\\sqyan\\NTT DATA EMEAL\\IEDR - Documents\\IEDR - IT\\000 - Data Specifications (NYSERDA)\\Customer Data\\Sample Data Delivery August 1st 2023\\MeterReadingSync_parquet\\AMI-20000-0.parquet\n",
      "C:\\Users\\sqyan\\NTT DATA EMEAL\\IEDR - Documents\\IEDR - IT\\000 - Data Specifications (NYSERDA)\\Customer Data\\Sample Data Delivery August 1st 2023\\MeterReadingSync_parquet\\AMI-20000-1.parquet\n",
      "C:\\Users\\sqyan\\NTT DATA EMEAL\\IEDR - Documents\\IEDR - IT\\000 - Data Specifications (NYSERDA)\\Customer Data\\Sample Data Delivery August 1st 2023\\MeterReadingSync_parquet\\AMI-20400-0.parquet\n",
      "C:\\Users\\sqyan\\NTT DATA EMEAL\\IEDR - Documents\\IEDR - IT\\000 - Data Specifications (NYSERDA)\\Customer Data\\Sample Data Delivery August 1st 2023\\MeterReadingSync_parquet\\AMI-20400-1.parquet\n",
      "C:\\Users\\sqyan\\NTT DATA EMEAL\\IEDR - Documents\\IEDR - IT\\000 - Data Specifications (NYSERDA)\\Customer Data\\Sample Data Delivery August 1st 2023\\MeterReadingSync_parquet\\AMI-20800-0.parquet\n",
      "C:\\Users\\sqyan\\NTT DATA EMEAL\\IEDR - Documents\\IEDR - IT\\000 - Data Specifications (NYSERDA)\\Customer Data\\Sample Data Delivery August 1st 2023\\MeterReadingSync_parquet\\AMI-20800-1.parquet\n",
      "C:\\Users\\sqyan\\NTT DATA EMEAL\\IEDR - Documents\\IEDR - IT\\000 - Data Specifications (NYSERDA)\\Customer Data\\Sample Data Delivery August 1st 2023\\MeterReadingSync_parquet\\AMI-21200-0.parquet\n",
      "C:\\Users\\sqyan\\NTT DATA EMEAL\\IEDR - Documents\\IEDR - IT\\000 - Data Specifications (NYSERDA)\\Customer Data\\Sample Data Delivery August 1st 2023\\MeterReadingSync_parquet\\AMI-21200-1.parquet\n",
      "C:\\Users\\sqyan\\NTT DATA EMEAL\\IEDR - Documents\\IEDR - IT\\000 - Data Specifications (NYSERDA)\\Customer Data\\Sample Data Delivery August 1st 2023\\MeterReadingSync_parquet\\AMI-21600-0.parquet\n",
      "C:\\Users\\sqyan\\NTT DATA EMEAL\\IEDR - Documents\\IEDR - IT\\000 - Data Specifications (NYSERDA)\\Customer Data\\Sample Data Delivery August 1st 2023\\MeterReadingSync_parquet\\AMI-21600-1.parquet\n",
      "C:\\Users\\sqyan\\NTT DATA EMEAL\\IEDR - Documents\\IEDR - IT\\000 - Data Specifications (NYSERDA)\\Customer Data\\Sample Data Delivery August 1st 2023\\MeterReadingSync_parquet\\AMI-22000-0.parquet\n",
      "C:\\Users\\sqyan\\NTT DATA EMEAL\\IEDR - Documents\\IEDR - IT\\000 - Data Specifications (NYSERDA)\\Customer Data\\Sample Data Delivery August 1st 2023\\MeterReadingSync_parquet\\AMI-22000-1.parquet\n",
      "C:\\Users\\sqyan\\NTT DATA EMEAL\\IEDR - Documents\\IEDR - IT\\000 - Data Specifications (NYSERDA)\\Customer Data\\Sample Data Delivery August 1st 2023\\MeterReadingSync_parquet\\AMI-22400-0.parquet\n",
      "C:\\Users\\sqyan\\NTT DATA EMEAL\\IEDR - Documents\\IEDR - IT\\000 - Data Specifications (NYSERDA)\\Customer Data\\Sample Data Delivery August 1st 2023\\MeterReadingSync_parquet\\AMI-22400-1.parquet\n",
      "C:\\Users\\sqyan\\NTT DATA EMEAL\\IEDR - Documents\\IEDR - IT\\000 - Data Specifications (NYSERDA)\\Customer Data\\Sample Data Delivery August 1st 2023\\MeterReadingSync_parquet\\AMI-22800-0.parquet\n",
      "C:\\Users\\sqyan\\NTT DATA EMEAL\\IEDR - Documents\\IEDR - IT\\000 - Data Specifications (NYSERDA)\\Customer Data\\Sample Data Delivery August 1st 2023\\MeterReadingSync_parquet\\AMI-22800-1.parquet\n",
      "C:\\Users\\sqyan\\NTT DATA EMEAL\\IEDR - Documents\\IEDR - IT\\000 - Data Specifications (NYSERDA)\\Customer Data\\Sample Data Delivery August 1st 2023\\MeterReadingSync_parquet\\AMI-23200-0.parquet\n",
      "C:\\Users\\sqyan\\NTT DATA EMEAL\\IEDR - Documents\\IEDR - IT\\000 - Data Specifications (NYSERDA)\\Customer Data\\Sample Data Delivery August 1st 2023\\MeterReadingSync_parquet\\AMI-23200-1.parquet\n",
      "C:\\Users\\sqyan\\NTT DATA EMEAL\\IEDR - Documents\\IEDR - IT\\000 - Data Specifications (NYSERDA)\\Customer Data\\Sample Data Delivery August 1st 2023\\MeterReadingSync_parquet\\AMI-23600-0.parquet\n",
      "C:\\Users\\sqyan\\NTT DATA EMEAL\\IEDR - Documents\\IEDR - IT\\000 - Data Specifications (NYSERDA)\\Customer Data\\Sample Data Delivery August 1st 2023\\MeterReadingSync_parquet\\AMI-23600-1.parquet\n",
      "C:\\Users\\sqyan\\NTT DATA EMEAL\\IEDR - Documents\\IEDR - IT\\000 - Data Specifications (NYSERDA)\\Customer Data\\Sample Data Delivery August 1st 2023\\MeterReadingSync_parquet\\AMI-2400-0.parquet\n",
      "C:\\Users\\sqyan\\NTT DATA EMEAL\\IEDR - Documents\\IEDR - IT\\000 - Data Specifications (NYSERDA)\\Customer Data\\Sample Data Delivery August 1st 2023\\MeterReadingSync_parquet\\AMI-2400-1.parquet\n",
      "C:\\Users\\sqyan\\NTT DATA EMEAL\\IEDR - Documents\\IEDR - IT\\000 - Data Specifications (NYSERDA)\\Customer Data\\Sample Data Delivery August 1st 2023\\MeterReadingSync_parquet\\AMI-24000-0.parquet\n",
      "C:\\Users\\sqyan\\NTT DATA EMEAL\\IEDR - Documents\\IEDR - IT\\000 - Data Specifications (NYSERDA)\\Customer Data\\Sample Data Delivery August 1st 2023\\MeterReadingSync_parquet\\AMI-24000-1.parquet\n",
      "C:\\Users\\sqyan\\NTT DATA EMEAL\\IEDR - Documents\\IEDR - IT\\000 - Data Specifications (NYSERDA)\\Customer Data\\Sample Data Delivery August 1st 2023\\MeterReadingSync_parquet\\AMI-24400-0.parquet\n",
      "C:\\Users\\sqyan\\NTT DATA EMEAL\\IEDR - Documents\\IEDR - IT\\000 - Data Specifications (NYSERDA)\\Customer Data\\Sample Data Delivery August 1st 2023\\MeterReadingSync_parquet\\AMI-24400-1.parquet\n",
      "C:\\Users\\sqyan\\NTT DATA EMEAL\\IEDR - Documents\\IEDR - IT\\000 - Data Specifications (NYSERDA)\\Customer Data\\Sample Data Delivery August 1st 2023\\MeterReadingSync_parquet\\AMI-24800-0.parquet\n",
      "C:\\Users\\sqyan\\NTT DATA EMEAL\\IEDR - Documents\\IEDR - IT\\000 - Data Specifications (NYSERDA)\\Customer Data\\Sample Data Delivery August 1st 2023\\MeterReadingSync_parquet\\AMI-24800-1.parquet\n",
      "C:\\Users\\sqyan\\NTT DATA EMEAL\\IEDR - Documents\\IEDR - IT\\000 - Data Specifications (NYSERDA)\\Customer Data\\Sample Data Delivery August 1st 2023\\MeterReadingSync_parquet\\AMI-25200-0.parquet\n",
      "C:\\Users\\sqyan\\NTT DATA EMEAL\\IEDR - Documents\\IEDR - IT\\000 - Data Specifications (NYSERDA)\\Customer Data\\Sample Data Delivery August 1st 2023\\MeterReadingSync_parquet\\AMI-25200-1.parquet\n",
      "C:\\Users\\sqyan\\NTT DATA EMEAL\\IEDR - Documents\\IEDR - IT\\000 - Data Specifications (NYSERDA)\\Customer Data\\Sample Data Delivery August 1st 2023\\MeterReadingSync_parquet\\AMI-25600-0.parquet\n",
      "C:\\Users\\sqyan\\NTT DATA EMEAL\\IEDR - Documents\\IEDR - IT\\000 - Data Specifications (NYSERDA)\\Customer Data\\Sample Data Delivery August 1st 2023\\MeterReadingSync_parquet\\AMI-25600-1.parquet\n"
     ]
    },
    {
     "name": "stdout",
     "output_type": "stream",
     "text": [
      "C:\\Users\\sqyan\\NTT DATA EMEAL\\IEDR - Documents\\IEDR - IT\\000 - Data Specifications (NYSERDA)\\Customer Data\\Sample Data Delivery August 1st 2023\\MeterReadingSync_parquet\\AMI-26000-0.parquet\n",
      "C:\\Users\\sqyan\\NTT DATA EMEAL\\IEDR - Documents\\IEDR - IT\\000 - Data Specifications (NYSERDA)\\Customer Data\\Sample Data Delivery August 1st 2023\\MeterReadingSync_parquet\\AMI-26400-0.parquet\n",
      "C:\\Users\\sqyan\\NTT DATA EMEAL\\IEDR - Documents\\IEDR - IT\\000 - Data Specifications (NYSERDA)\\Customer Data\\Sample Data Delivery August 1st 2023\\MeterReadingSync_parquet\\AMI-26400-1.parquet\n",
      "C:\\Users\\sqyan\\NTT DATA EMEAL\\IEDR - Documents\\IEDR - IT\\000 - Data Specifications (NYSERDA)\\Customer Data\\Sample Data Delivery August 1st 2023\\MeterReadingSync_parquet\\AMI-26800-0.parquet\n",
      "C:\\Users\\sqyan\\NTT DATA EMEAL\\IEDR - Documents\\IEDR - IT\\000 - Data Specifications (NYSERDA)\\Customer Data\\Sample Data Delivery August 1st 2023\\MeterReadingSync_parquet\\AMI-26800-1.parquet\n",
      "C:\\Users\\sqyan\\NTT DATA EMEAL\\IEDR - Documents\\IEDR - IT\\000 - Data Specifications (NYSERDA)\\Customer Data\\Sample Data Delivery August 1st 2023\\MeterReadingSync_parquet\\AMI-27200-0.parquet\n",
      "C:\\Users\\sqyan\\NTT DATA EMEAL\\IEDR - Documents\\IEDR - IT\\000 - Data Specifications (NYSERDA)\\Customer Data\\Sample Data Delivery August 1st 2023\\MeterReadingSync_parquet\\AMI-27600-0.parquet\n",
      "C:\\Users\\sqyan\\NTT DATA EMEAL\\IEDR - Documents\\IEDR - IT\\000 - Data Specifications (NYSERDA)\\Customer Data\\Sample Data Delivery August 1st 2023\\MeterReadingSync_parquet\\AMI-27600-1.parquet\n",
      "C:\\Users\\sqyan\\NTT DATA EMEAL\\IEDR - Documents\\IEDR - IT\\000 - Data Specifications (NYSERDA)\\Customer Data\\Sample Data Delivery August 1st 2023\\MeterReadingSync_parquet\\AMI-2800-0.parquet\n",
      "C:\\Users\\sqyan\\NTT DATA EMEAL\\IEDR - Documents\\IEDR - IT\\000 - Data Specifications (NYSERDA)\\Customer Data\\Sample Data Delivery August 1st 2023\\MeterReadingSync_parquet\\AMI-2800-1.parquet\n",
      "C:\\Users\\sqyan\\NTT DATA EMEAL\\IEDR - Documents\\IEDR - IT\\000 - Data Specifications (NYSERDA)\\Customer Data\\Sample Data Delivery August 1st 2023\\MeterReadingSync_parquet\\AMI-28000-0.parquet\n",
      "C:\\Users\\sqyan\\NTT DATA EMEAL\\IEDR - Documents\\IEDR - IT\\000 - Data Specifications (NYSERDA)\\Customer Data\\Sample Data Delivery August 1st 2023\\MeterReadingSync_parquet\\AMI-28000-1.parquet\n",
      "C:\\Users\\sqyan\\NTT DATA EMEAL\\IEDR - Documents\\IEDR - IT\\000 - Data Specifications (NYSERDA)\\Customer Data\\Sample Data Delivery August 1st 2023\\MeterReadingSync_parquet\\AMI-28400-0.parquet\n",
      "C:\\Users\\sqyan\\NTT DATA EMEAL\\IEDR - Documents\\IEDR - IT\\000 - Data Specifications (NYSERDA)\\Customer Data\\Sample Data Delivery August 1st 2023\\MeterReadingSync_parquet\\AMI-28400-1.parquet\n",
      "C:\\Users\\sqyan\\NTT DATA EMEAL\\IEDR - Documents\\IEDR - IT\\000 - Data Specifications (NYSERDA)\\Customer Data\\Sample Data Delivery August 1st 2023\\MeterReadingSync_parquet\\AMI-28800-0.parquet\n",
      "C:\\Users\\sqyan\\NTT DATA EMEAL\\IEDR - Documents\\IEDR - IT\\000 - Data Specifications (NYSERDA)\\Customer Data\\Sample Data Delivery August 1st 2023\\MeterReadingSync_parquet\\AMI-28800-1.parquet\n",
      "C:\\Users\\sqyan\\NTT DATA EMEAL\\IEDR - Documents\\IEDR - IT\\000 - Data Specifications (NYSERDA)\\Customer Data\\Sample Data Delivery August 1st 2023\\MeterReadingSync_parquet\\AMI-29200-0.parquet\n",
      "C:\\Users\\sqyan\\NTT DATA EMEAL\\IEDR - Documents\\IEDR - IT\\000 - Data Specifications (NYSERDA)\\Customer Data\\Sample Data Delivery August 1st 2023\\MeterReadingSync_parquet\\AMI-29200-1.parquet\n",
      "C:\\Users\\sqyan\\NTT DATA EMEAL\\IEDR - Documents\\IEDR - IT\\000 - Data Specifications (NYSERDA)\\Customer Data\\Sample Data Delivery August 1st 2023\\MeterReadingSync_parquet\\AMI-29600-0.parquet\n",
      "C:\\Users\\sqyan\\NTT DATA EMEAL\\IEDR - Documents\\IEDR - IT\\000 - Data Specifications (NYSERDA)\\Customer Data\\Sample Data Delivery August 1st 2023\\MeterReadingSync_parquet\\AMI-29600-1.parquet\n",
      "C:\\Users\\sqyan\\NTT DATA EMEAL\\IEDR - Documents\\IEDR - IT\\000 - Data Specifications (NYSERDA)\\Customer Data\\Sample Data Delivery August 1st 2023\\MeterReadingSync_parquet\\AMI-30000-0.parquet\n",
      "C:\\Users\\sqyan\\NTT DATA EMEAL\\IEDR - Documents\\IEDR - IT\\000 - Data Specifications (NYSERDA)\\Customer Data\\Sample Data Delivery August 1st 2023\\MeterReadingSync_parquet\\AMI-30000-1.parquet\n",
      "C:\\Users\\sqyan\\NTT DATA EMEAL\\IEDR - Documents\\IEDR - IT\\000 - Data Specifications (NYSERDA)\\Customer Data\\Sample Data Delivery August 1st 2023\\MeterReadingSync_parquet\\AMI-30400-0.parquet\n",
      "C:\\Users\\sqyan\\NTT DATA EMEAL\\IEDR - Documents\\IEDR - IT\\000 - Data Specifications (NYSERDA)\\Customer Data\\Sample Data Delivery August 1st 2023\\MeterReadingSync_parquet\\AMI-30400-1.parquet\n",
      "C:\\Users\\sqyan\\NTT DATA EMEAL\\IEDR - Documents\\IEDR - IT\\000 - Data Specifications (NYSERDA)\\Customer Data\\Sample Data Delivery August 1st 2023\\MeterReadingSync_parquet\\AMI-30800-0.parquet\n",
      "C:\\Users\\sqyan\\NTT DATA EMEAL\\IEDR - Documents\\IEDR - IT\\000 - Data Specifications (NYSERDA)\\Customer Data\\Sample Data Delivery August 1st 2023\\MeterReadingSync_parquet\\AMI-30800-1.parquet\n",
      "C:\\Users\\sqyan\\NTT DATA EMEAL\\IEDR - Documents\\IEDR - IT\\000 - Data Specifications (NYSERDA)\\Customer Data\\Sample Data Delivery August 1st 2023\\MeterReadingSync_parquet\\AMI-31200-0.parquet\n",
      "C:\\Users\\sqyan\\NTT DATA EMEAL\\IEDR - Documents\\IEDR - IT\\000 - Data Specifications (NYSERDA)\\Customer Data\\Sample Data Delivery August 1st 2023\\MeterReadingSync_parquet\\AMI-31200-1.parquet\n",
      "C:\\Users\\sqyan\\NTT DATA EMEAL\\IEDR - Documents\\IEDR - IT\\000 - Data Specifications (NYSERDA)\\Customer Data\\Sample Data Delivery August 1st 2023\\MeterReadingSync_parquet\\AMI-31600-0.parquet\n",
      "C:\\Users\\sqyan\\NTT DATA EMEAL\\IEDR - Documents\\IEDR - IT\\000 - Data Specifications (NYSERDA)\\Customer Data\\Sample Data Delivery August 1st 2023\\MeterReadingSync_parquet\\AMI-31600-1.parquet\n",
      "C:\\Users\\sqyan\\NTT DATA EMEAL\\IEDR - Documents\\IEDR - IT\\000 - Data Specifications (NYSERDA)\\Customer Data\\Sample Data Delivery August 1st 2023\\MeterReadingSync_parquet\\AMI-3200-0.parquet\n",
      "C:\\Users\\sqyan\\NTT DATA EMEAL\\IEDR - Documents\\IEDR - IT\\000 - Data Specifications (NYSERDA)\\Customer Data\\Sample Data Delivery August 1st 2023\\MeterReadingSync_parquet\\AMI-3200-1.parquet\n",
      "C:\\Users\\sqyan\\NTT DATA EMEAL\\IEDR - Documents\\IEDR - IT\\000 - Data Specifications (NYSERDA)\\Customer Data\\Sample Data Delivery August 1st 2023\\MeterReadingSync_parquet\\AMI-32000-0.parquet\n",
      "C:\\Users\\sqyan\\NTT DATA EMEAL\\IEDR - Documents\\IEDR - IT\\000 - Data Specifications (NYSERDA)\\Customer Data\\Sample Data Delivery August 1st 2023\\MeterReadingSync_parquet\\AMI-32000-1.parquet\n",
      "C:\\Users\\sqyan\\NTT DATA EMEAL\\IEDR - Documents\\IEDR - IT\\000 - Data Specifications (NYSERDA)\\Customer Data\\Sample Data Delivery August 1st 2023\\MeterReadingSync_parquet\\AMI-32400-0.parquet\n",
      "C:\\Users\\sqyan\\NTT DATA EMEAL\\IEDR - Documents\\IEDR - IT\\000 - Data Specifications (NYSERDA)\\Customer Data\\Sample Data Delivery August 1st 2023\\MeterReadingSync_parquet\\AMI-32400-1.parquet\n",
      "C:\\Users\\sqyan\\NTT DATA EMEAL\\IEDR - Documents\\IEDR - IT\\000 - Data Specifications (NYSERDA)\\Customer Data\\Sample Data Delivery August 1st 2023\\MeterReadingSync_parquet\\AMI-32800-0.parquet\n",
      "C:\\Users\\sqyan\\NTT DATA EMEAL\\IEDR - Documents\\IEDR - IT\\000 - Data Specifications (NYSERDA)\\Customer Data\\Sample Data Delivery August 1st 2023\\MeterReadingSync_parquet\\AMI-32800-1.parquet\n",
      "C:\\Users\\sqyan\\NTT DATA EMEAL\\IEDR - Documents\\IEDR - IT\\000 - Data Specifications (NYSERDA)\\Customer Data\\Sample Data Delivery August 1st 2023\\MeterReadingSync_parquet\\AMI-33200-0.parquet\n",
      "C:\\Users\\sqyan\\NTT DATA EMEAL\\IEDR - Documents\\IEDR - IT\\000 - Data Specifications (NYSERDA)\\Customer Data\\Sample Data Delivery August 1st 2023\\MeterReadingSync_parquet\\AMI-33200-1.parquet\n",
      "C:\\Users\\sqyan\\NTT DATA EMEAL\\IEDR - Documents\\IEDR - IT\\000 - Data Specifications (NYSERDA)\\Customer Data\\Sample Data Delivery August 1st 2023\\MeterReadingSync_parquet\\AMI-33600-0.parquet\n",
      "C:\\Users\\sqyan\\NTT DATA EMEAL\\IEDR - Documents\\IEDR - IT\\000 - Data Specifications (NYSERDA)\\Customer Data\\Sample Data Delivery August 1st 2023\\MeterReadingSync_parquet\\AMI-33600-1.parquet\n",
      "C:\\Users\\sqyan\\NTT DATA EMEAL\\IEDR - Documents\\IEDR - IT\\000 - Data Specifications (NYSERDA)\\Customer Data\\Sample Data Delivery August 1st 2023\\MeterReadingSync_parquet\\AMI-34000-0.parquet\n",
      "C:\\Users\\sqyan\\NTT DATA EMEAL\\IEDR - Documents\\IEDR - IT\\000 - Data Specifications (NYSERDA)\\Customer Data\\Sample Data Delivery August 1st 2023\\MeterReadingSync_parquet\\AMI-34000-1.parquet\n"
     ]
    },
    {
     "name": "stdout",
     "output_type": "stream",
     "text": [
      "C:\\Users\\sqyan\\NTT DATA EMEAL\\IEDR - Documents\\IEDR - IT\\000 - Data Specifications (NYSERDA)\\Customer Data\\Sample Data Delivery August 1st 2023\\MeterReadingSync_parquet\\AMI-34400-0.parquet\n",
      "C:\\Users\\sqyan\\NTT DATA EMEAL\\IEDR - Documents\\IEDR - IT\\000 - Data Specifications (NYSERDA)\\Customer Data\\Sample Data Delivery August 1st 2023\\MeterReadingSync_parquet\\AMI-34400-1.parquet\n",
      "C:\\Users\\sqyan\\NTT DATA EMEAL\\IEDR - Documents\\IEDR - IT\\000 - Data Specifications (NYSERDA)\\Customer Data\\Sample Data Delivery August 1st 2023\\MeterReadingSync_parquet\\AMI-34800-0.parquet\n",
      "C:\\Users\\sqyan\\NTT DATA EMEAL\\IEDR - Documents\\IEDR - IT\\000 - Data Specifications (NYSERDA)\\Customer Data\\Sample Data Delivery August 1st 2023\\MeterReadingSync_parquet\\AMI-34800-1.parquet\n",
      "C:\\Users\\sqyan\\NTT DATA EMEAL\\IEDR - Documents\\IEDR - IT\\000 - Data Specifications (NYSERDA)\\Customer Data\\Sample Data Delivery August 1st 2023\\MeterReadingSync_parquet\\AMI-35200-0.parquet\n",
      "C:\\Users\\sqyan\\NTT DATA EMEAL\\IEDR - Documents\\IEDR - IT\\000 - Data Specifications (NYSERDA)\\Customer Data\\Sample Data Delivery August 1st 2023\\MeterReadingSync_parquet\\AMI-35200-1.parquet\n",
      "C:\\Users\\sqyan\\NTT DATA EMEAL\\IEDR - Documents\\IEDR - IT\\000 - Data Specifications (NYSERDA)\\Customer Data\\Sample Data Delivery August 1st 2023\\MeterReadingSync_parquet\\AMI-35600-0.parquet\n",
      "C:\\Users\\sqyan\\NTT DATA EMEAL\\IEDR - Documents\\IEDR - IT\\000 - Data Specifications (NYSERDA)\\Customer Data\\Sample Data Delivery August 1st 2023\\MeterReadingSync_parquet\\AMI-35600-1.parquet\n",
      "C:\\Users\\sqyan\\NTT DATA EMEAL\\IEDR - Documents\\IEDR - IT\\000 - Data Specifications (NYSERDA)\\Customer Data\\Sample Data Delivery August 1st 2023\\MeterReadingSync_parquet\\AMI-3600-0.parquet\n",
      "C:\\Users\\sqyan\\NTT DATA EMEAL\\IEDR - Documents\\IEDR - IT\\000 - Data Specifications (NYSERDA)\\Customer Data\\Sample Data Delivery August 1st 2023\\MeterReadingSync_parquet\\AMI-3600-1.parquet\n",
      "C:\\Users\\sqyan\\NTT DATA EMEAL\\IEDR - Documents\\IEDR - IT\\000 - Data Specifications (NYSERDA)\\Customer Data\\Sample Data Delivery August 1st 2023\\MeterReadingSync_parquet\\AMI-36000-0.parquet\n",
      "C:\\Users\\sqyan\\NTT DATA EMEAL\\IEDR - Documents\\IEDR - IT\\000 - Data Specifications (NYSERDA)\\Customer Data\\Sample Data Delivery August 1st 2023\\MeterReadingSync_parquet\\AMI-36000-1.parquet\n",
      "C:\\Users\\sqyan\\NTT DATA EMEAL\\IEDR - Documents\\IEDR - IT\\000 - Data Specifications (NYSERDA)\\Customer Data\\Sample Data Delivery August 1st 2023\\MeterReadingSync_parquet\\AMI-36400-0.parquet\n",
      "C:\\Users\\sqyan\\NTT DATA EMEAL\\IEDR - Documents\\IEDR - IT\\000 - Data Specifications (NYSERDA)\\Customer Data\\Sample Data Delivery August 1st 2023\\MeterReadingSync_parquet\\AMI-36400-1.parquet\n",
      "C:\\Users\\sqyan\\NTT DATA EMEAL\\IEDR - Documents\\IEDR - IT\\000 - Data Specifications (NYSERDA)\\Customer Data\\Sample Data Delivery August 1st 2023\\MeterReadingSync_parquet\\AMI-36800-0.parquet\n",
      "C:\\Users\\sqyan\\NTT DATA EMEAL\\IEDR - Documents\\IEDR - IT\\000 - Data Specifications (NYSERDA)\\Customer Data\\Sample Data Delivery August 1st 2023\\MeterReadingSync_parquet\\AMI-36800-1.parquet\n",
      "C:\\Users\\sqyan\\NTT DATA EMEAL\\IEDR - Documents\\IEDR - IT\\000 - Data Specifications (NYSERDA)\\Customer Data\\Sample Data Delivery August 1st 2023\\MeterReadingSync_parquet\\AMI-37200-0.parquet\n",
      "C:\\Users\\sqyan\\NTT DATA EMEAL\\IEDR - Documents\\IEDR - IT\\000 - Data Specifications (NYSERDA)\\Customer Data\\Sample Data Delivery August 1st 2023\\MeterReadingSync_parquet\\AMI-37200-1.parquet\n",
      "C:\\Users\\sqyan\\NTT DATA EMEAL\\IEDR - Documents\\IEDR - IT\\000 - Data Specifications (NYSERDA)\\Customer Data\\Sample Data Delivery August 1st 2023\\MeterReadingSync_parquet\\AMI-37600-0.parquet\n",
      "C:\\Users\\sqyan\\NTT DATA EMEAL\\IEDR - Documents\\IEDR - IT\\000 - Data Specifications (NYSERDA)\\Customer Data\\Sample Data Delivery August 1st 2023\\MeterReadingSync_parquet\\AMI-37600-1.parquet\n",
      "C:\\Users\\sqyan\\NTT DATA EMEAL\\IEDR - Documents\\IEDR - IT\\000 - Data Specifications (NYSERDA)\\Customer Data\\Sample Data Delivery August 1st 2023\\MeterReadingSync_parquet\\AMI-38000-0.parquet\n",
      "C:\\Users\\sqyan\\NTT DATA EMEAL\\IEDR - Documents\\IEDR - IT\\000 - Data Specifications (NYSERDA)\\Customer Data\\Sample Data Delivery August 1st 2023\\MeterReadingSync_parquet\\AMI-38000-1.parquet\n",
      "C:\\Users\\sqyan\\NTT DATA EMEAL\\IEDR - Documents\\IEDR - IT\\000 - Data Specifications (NYSERDA)\\Customer Data\\Sample Data Delivery August 1st 2023\\MeterReadingSync_parquet\\AMI-38400-0.parquet\n",
      "C:\\Users\\sqyan\\NTT DATA EMEAL\\IEDR - Documents\\IEDR - IT\\000 - Data Specifications (NYSERDA)\\Customer Data\\Sample Data Delivery August 1st 2023\\MeterReadingSync_parquet\\AMI-38400-1.parquet\n",
      "C:\\Users\\sqyan\\NTT DATA EMEAL\\IEDR - Documents\\IEDR - IT\\000 - Data Specifications (NYSERDA)\\Customer Data\\Sample Data Delivery August 1st 2023\\MeterReadingSync_parquet\\AMI-38800-0.parquet\n",
      "C:\\Users\\sqyan\\NTT DATA EMEAL\\IEDR - Documents\\IEDR - IT\\000 - Data Specifications (NYSERDA)\\Customer Data\\Sample Data Delivery August 1st 2023\\MeterReadingSync_parquet\\AMI-38800-1.parquet\n",
      "C:\\Users\\sqyan\\NTT DATA EMEAL\\IEDR - Documents\\IEDR - IT\\000 - Data Specifications (NYSERDA)\\Customer Data\\Sample Data Delivery August 1st 2023\\MeterReadingSync_parquet\\AMI-39200-0.parquet\n",
      "C:\\Users\\sqyan\\NTT DATA EMEAL\\IEDR - Documents\\IEDR - IT\\000 - Data Specifications (NYSERDA)\\Customer Data\\Sample Data Delivery August 1st 2023\\MeterReadingSync_parquet\\AMI-39200-1.parquet\n",
      "C:\\Users\\sqyan\\NTT DATA EMEAL\\IEDR - Documents\\IEDR - IT\\000 - Data Specifications (NYSERDA)\\Customer Data\\Sample Data Delivery August 1st 2023\\MeterReadingSync_parquet\\AMI-39600-0.parquet\n",
      "C:\\Users\\sqyan\\NTT DATA EMEAL\\IEDR - Documents\\IEDR - IT\\000 - Data Specifications (NYSERDA)\\Customer Data\\Sample Data Delivery August 1st 2023\\MeterReadingSync_parquet\\AMI-39600-1.parquet\n",
      "C:\\Users\\sqyan\\NTT DATA EMEAL\\IEDR - Documents\\IEDR - IT\\000 - Data Specifications (NYSERDA)\\Customer Data\\Sample Data Delivery August 1st 2023\\MeterReadingSync_parquet\\AMI-400-0.parquet\n",
      "C:\\Users\\sqyan\\NTT DATA EMEAL\\IEDR - Documents\\IEDR - IT\\000 - Data Specifications (NYSERDA)\\Customer Data\\Sample Data Delivery August 1st 2023\\MeterReadingSync_parquet\\AMI-400-1.parquet\n",
      "C:\\Users\\sqyan\\NTT DATA EMEAL\\IEDR - Documents\\IEDR - IT\\000 - Data Specifications (NYSERDA)\\Customer Data\\Sample Data Delivery August 1st 2023\\MeterReadingSync_parquet\\AMI-4000-0.parquet\n",
      "C:\\Users\\sqyan\\NTT DATA EMEAL\\IEDR - Documents\\IEDR - IT\\000 - Data Specifications (NYSERDA)\\Customer Data\\Sample Data Delivery August 1st 2023\\MeterReadingSync_parquet\\AMI-4000-1.parquet\n",
      "C:\\Users\\sqyan\\NTT DATA EMEAL\\IEDR - Documents\\IEDR - IT\\000 - Data Specifications (NYSERDA)\\Customer Data\\Sample Data Delivery August 1st 2023\\MeterReadingSync_parquet\\AMI-40000-0.parquet\n",
      "C:\\Users\\sqyan\\NTT DATA EMEAL\\IEDR - Documents\\IEDR - IT\\000 - Data Specifications (NYSERDA)\\Customer Data\\Sample Data Delivery August 1st 2023\\MeterReadingSync_parquet\\AMI-4400-0.parquet\n",
      "C:\\Users\\sqyan\\NTT DATA EMEAL\\IEDR - Documents\\IEDR - IT\\000 - Data Specifications (NYSERDA)\\Customer Data\\Sample Data Delivery August 1st 2023\\MeterReadingSync_parquet\\AMI-4400-1.parquet\n",
      "C:\\Users\\sqyan\\NTT DATA EMEAL\\IEDR - Documents\\IEDR - IT\\000 - Data Specifications (NYSERDA)\\Customer Data\\Sample Data Delivery August 1st 2023\\MeterReadingSync_parquet\\AMI-4800-0.parquet\n",
      "C:\\Users\\sqyan\\NTT DATA EMEAL\\IEDR - Documents\\IEDR - IT\\000 - Data Specifications (NYSERDA)\\Customer Data\\Sample Data Delivery August 1st 2023\\MeterReadingSync_parquet\\AMI-4800-1.parquet\n",
      "C:\\Users\\sqyan\\NTT DATA EMEAL\\IEDR - Documents\\IEDR - IT\\000 - Data Specifications (NYSERDA)\\Customer Data\\Sample Data Delivery August 1st 2023\\MeterReadingSync_parquet\\AMI-5200-0.parquet\n",
      "C:\\Users\\sqyan\\NTT DATA EMEAL\\IEDR - Documents\\IEDR - IT\\000 - Data Specifications (NYSERDA)\\Customer Data\\Sample Data Delivery August 1st 2023\\MeterReadingSync_parquet\\AMI-5200-1.parquet\n",
      "C:\\Users\\sqyan\\NTT DATA EMEAL\\IEDR - Documents\\IEDR - IT\\000 - Data Specifications (NYSERDA)\\Customer Data\\Sample Data Delivery August 1st 2023\\MeterReadingSync_parquet\\AMI-5600-0.parquet\n",
      "C:\\Users\\sqyan\\NTT DATA EMEAL\\IEDR - Documents\\IEDR - IT\\000 - Data Specifications (NYSERDA)\\Customer Data\\Sample Data Delivery August 1st 2023\\MeterReadingSync_parquet\\AMI-5600-1.parquet\n",
      "C:\\Users\\sqyan\\NTT DATA EMEAL\\IEDR - Documents\\IEDR - IT\\000 - Data Specifications (NYSERDA)\\Customer Data\\Sample Data Delivery August 1st 2023\\MeterReadingSync_parquet\\AMI-6000-0.parquet\n"
     ]
    },
    {
     "name": "stdout",
     "output_type": "stream",
     "text": [
      "C:\\Users\\sqyan\\NTT DATA EMEAL\\IEDR - Documents\\IEDR - IT\\000 - Data Specifications (NYSERDA)\\Customer Data\\Sample Data Delivery August 1st 2023\\MeterReadingSync_parquet\\AMI-6000-1.parquet\n",
      "C:\\Users\\sqyan\\NTT DATA EMEAL\\IEDR - Documents\\IEDR - IT\\000 - Data Specifications (NYSERDA)\\Customer Data\\Sample Data Delivery August 1st 2023\\MeterReadingSync_parquet\\AMI-6400-0.parquet\n",
      "C:\\Users\\sqyan\\NTT DATA EMEAL\\IEDR - Documents\\IEDR - IT\\000 - Data Specifications (NYSERDA)\\Customer Data\\Sample Data Delivery August 1st 2023\\MeterReadingSync_parquet\\AMI-6400-1.parquet\n",
      "C:\\Users\\sqyan\\NTT DATA EMEAL\\IEDR - Documents\\IEDR - IT\\000 - Data Specifications (NYSERDA)\\Customer Data\\Sample Data Delivery August 1st 2023\\MeterReadingSync_parquet\\AMI-6800-0.parquet\n",
      "C:\\Users\\sqyan\\NTT DATA EMEAL\\IEDR - Documents\\IEDR - IT\\000 - Data Specifications (NYSERDA)\\Customer Data\\Sample Data Delivery August 1st 2023\\MeterReadingSync_parquet\\AMI-6800-1.parquet\n",
      "C:\\Users\\sqyan\\NTT DATA EMEAL\\IEDR - Documents\\IEDR - IT\\000 - Data Specifications (NYSERDA)\\Customer Data\\Sample Data Delivery August 1st 2023\\MeterReadingSync_parquet\\AMI-7200-0.parquet\n",
      "C:\\Users\\sqyan\\NTT DATA EMEAL\\IEDR - Documents\\IEDR - IT\\000 - Data Specifications (NYSERDA)\\Customer Data\\Sample Data Delivery August 1st 2023\\MeterReadingSync_parquet\\AMI-7200-1.parquet\n",
      "C:\\Users\\sqyan\\NTT DATA EMEAL\\IEDR - Documents\\IEDR - IT\\000 - Data Specifications (NYSERDA)\\Customer Data\\Sample Data Delivery August 1st 2023\\MeterReadingSync_parquet\\AMI-7600-0.parquet\n",
      "C:\\Users\\sqyan\\NTT DATA EMEAL\\IEDR - Documents\\IEDR - IT\\000 - Data Specifications (NYSERDA)\\Customer Data\\Sample Data Delivery August 1st 2023\\MeterReadingSync_parquet\\AMI-7600-1.parquet\n",
      "C:\\Users\\sqyan\\NTT DATA EMEAL\\IEDR - Documents\\IEDR - IT\\000 - Data Specifications (NYSERDA)\\Customer Data\\Sample Data Delivery August 1st 2023\\MeterReadingSync_parquet\\AMI-800-0.parquet\n"
     ]
    },
    {
     "ename": "ArrowErrorException",
     "evalue": "ExternalFormat(\"File out of specification: The file must end with PAR1\")",
     "output_type": "error",
     "traceback": [
      "\u001b[1;31m---------------------------------------------------------------------------\u001b[0m",
      "\u001b[1;31mArrowErrorException\u001b[0m                       Traceback (most recent call last)",
      "Cell \u001b[1;32mIn[316], line 4\u001b[0m\n\u001b[0;32m      2\u001b[0m \u001b[38;5;28;01mfor\u001b[39;00m fn \u001b[38;5;129;01min\u001b[39;00m files_path:\n\u001b[0;32m      3\u001b[0m     \u001b[38;5;28mprint\u001b[39m(fn)\n\u001b[1;32m----> 4\u001b[0m     df \u001b[38;5;241m=\u001b[39m \u001b[43mpl\u001b[49m\u001b[38;5;241;43m.\u001b[39;49m\u001b[43mread_parquet\u001b[49m\u001b[43m(\u001b[49m\u001b[43mfn\u001b[49m\u001b[43m)\u001b[49m\n\u001b[0;32m      5\u001b[0m     df \u001b[38;5;241m=\u001b[39m df\u001b[38;5;241m.\u001b[39mwith_columns(\n\u001b[0;32m      6\u001b[0m             pl\u001b[38;5;241m.\u001b[39mcol(\u001b[38;5;124m'\u001b[39m\u001b[38;5;124mReadingTime\u001b[39m\u001b[38;5;124m'\u001b[39m)\u001b[38;5;241m.\u001b[39mstr\u001b[38;5;241m.\u001b[39mto_datetime(\u001b[38;5;124m'\u001b[39m\u001b[38;5;124m%\u001b[39m\u001b[38;5;124mY-\u001b[39m\u001b[38;5;124m%\u001b[39m\u001b[38;5;124mm-\u001b[39m\u001b[38;5;132;01m%d\u001b[39;00m\u001b[38;5;124mT\u001b[39m\u001b[38;5;124m%\u001b[39m\u001b[38;5;124mH:\u001b[39m\u001b[38;5;124m%\u001b[39m\u001b[38;5;124mM:\u001b[39m\u001b[38;5;124m%\u001b[39m\u001b[38;5;124mSZ\u001b[39m\u001b[38;5;124m'\u001b[39m)\n\u001b[0;32m      7\u001b[0m         )\n\u001b[0;32m      9\u001b[0m \u001b[38;5;66;03m#     df_ = df_approved_meters.join(\u001b[39;00m\n\u001b[0;32m     10\u001b[0m \u001b[38;5;66;03m#             df, left_on='Meterid', right_on='meter_num', how=\"inner\"\u001b[39;00m\n\u001b[0;32m     11\u001b[0m \u001b[38;5;66;03m#         ).join(df_approved_channels, on='channel_id', how=\"inner\").filter(\u001b[39;00m\n\u001b[0;32m     12\u001b[0m \u001b[38;5;66;03m#             pl.col('ReadingTime') >= pl.col('ApprovedDate')\u001b[39;00m\n\u001b[0;32m     13\u001b[0m \u001b[38;5;66;03m#         )\u001b[39;00m\n",
      "File \u001b[1;32m~\\AppData\\Local\\Programs\\Python\\Python311\\Lib\\site-packages\\polars\\io\\parquet\\functions.py:123\u001b[0m, in \u001b[0;36mread_parquet\u001b[1;34m(source, columns, n_rows, use_pyarrow, memory_map, storage_options, parallel, row_count_name, row_count_offset, low_memory, pyarrow_options, use_statistics, rechunk)\u001b[0m\n\u001b[0;32m    112\u001b[0m     \u001b[38;5;28;01mimport\u001b[39;00m \u001b[38;5;21;01mpyarrow\u001b[39;00m\u001b[38;5;21;01m.\u001b[39;00m\u001b[38;5;21;01mparquet\u001b[39;00m\n\u001b[0;32m    114\u001b[0m     \u001b[38;5;28;01mreturn\u001b[39;00m from_arrow(  \u001b[38;5;66;03m# type: ignore[return-value]\u001b[39;00m\n\u001b[0;32m    115\u001b[0m         pa\u001b[38;5;241m.\u001b[39mparquet\u001b[38;5;241m.\u001b[39mread_table(\n\u001b[0;32m    116\u001b[0m             source_prep,\n\u001b[1;32m   (...)\u001b[0m\n\u001b[0;32m    120\u001b[0m         )\n\u001b[0;32m    121\u001b[0m     )\n\u001b[1;32m--> 123\u001b[0m \u001b[38;5;28;01mreturn\u001b[39;00m \u001b[43mpl\u001b[49m\u001b[38;5;241;43m.\u001b[39;49m\u001b[43mDataFrame\u001b[49m\u001b[38;5;241;43m.\u001b[39;49m\u001b[43m_read_parquet\u001b[49m\u001b[43m(\u001b[49m\n\u001b[0;32m    124\u001b[0m \u001b[43m    \u001b[49m\u001b[43msource_prep\u001b[49m\u001b[43m,\u001b[49m\n\u001b[0;32m    125\u001b[0m \u001b[43m    \u001b[49m\u001b[43mcolumns\u001b[49m\u001b[38;5;241;43m=\u001b[39;49m\u001b[43mcolumns\u001b[49m\u001b[43m,\u001b[49m\n\u001b[0;32m    126\u001b[0m \u001b[43m    \u001b[49m\u001b[43mn_rows\u001b[49m\u001b[38;5;241;43m=\u001b[39;49m\u001b[43mn_rows\u001b[49m\u001b[43m,\u001b[49m\n\u001b[0;32m    127\u001b[0m \u001b[43m    \u001b[49m\u001b[43mparallel\u001b[49m\u001b[38;5;241;43m=\u001b[39;49m\u001b[43mparallel\u001b[49m\u001b[43m,\u001b[49m\n\u001b[0;32m    128\u001b[0m \u001b[43m    \u001b[49m\u001b[43mrow_count_name\u001b[49m\u001b[38;5;241;43m=\u001b[39;49m\u001b[43mrow_count_name\u001b[49m\u001b[43m,\u001b[49m\n\u001b[0;32m    129\u001b[0m \u001b[43m    \u001b[49m\u001b[43mrow_count_offset\u001b[49m\u001b[38;5;241;43m=\u001b[39;49m\u001b[43mrow_count_offset\u001b[49m\u001b[43m,\u001b[49m\n\u001b[0;32m    130\u001b[0m \u001b[43m    \u001b[49m\u001b[43mlow_memory\u001b[49m\u001b[38;5;241;43m=\u001b[39;49m\u001b[43mlow_memory\u001b[49m\u001b[43m,\u001b[49m\n\u001b[0;32m    131\u001b[0m \u001b[43m    \u001b[49m\u001b[43muse_statistics\u001b[49m\u001b[38;5;241;43m=\u001b[39;49m\u001b[43muse_statistics\u001b[49m\u001b[43m,\u001b[49m\n\u001b[0;32m    132\u001b[0m \u001b[43m    \u001b[49m\u001b[43mrechunk\u001b[49m\u001b[38;5;241;43m=\u001b[39;49m\u001b[43mrechunk\u001b[49m\u001b[43m,\u001b[49m\n\u001b[0;32m    133\u001b[0m \u001b[43m\u001b[49m\u001b[43m)\u001b[49m\n",
      "File \u001b[1;32m~\\AppData\\Local\\Programs\\Python\\Python311\\Lib\\site-packages\\polars\\dataframe\\frame.py:845\u001b[0m, in \u001b[0;36mDataFrame._read_parquet\u001b[1;34m(cls, source, columns, n_rows, parallel, row_count_name, row_count_offset, low_memory, use_statistics, rechunk)\u001b[0m\n\u001b[0;32m    843\u001b[0m projection, columns \u001b[38;5;241m=\u001b[39m handle_projection_columns(columns)\n\u001b[0;32m    844\u001b[0m \u001b[38;5;28mself\u001b[39m \u001b[38;5;241m=\u001b[39m \u001b[38;5;28mcls\u001b[39m\u001b[38;5;241m.\u001b[39m\u001b[38;5;21m__new__\u001b[39m(\u001b[38;5;28mcls\u001b[39m)\n\u001b[1;32m--> 845\u001b[0m \u001b[38;5;28mself\u001b[39m\u001b[38;5;241m.\u001b[39m_df \u001b[38;5;241m=\u001b[39m \u001b[43mPyDataFrame\u001b[49m\u001b[38;5;241;43m.\u001b[39;49m\u001b[43mread_parquet\u001b[49m\u001b[43m(\u001b[49m\n\u001b[0;32m    846\u001b[0m \u001b[43m    \u001b[49m\u001b[43msource\u001b[49m\u001b[43m,\u001b[49m\n\u001b[0;32m    847\u001b[0m \u001b[43m    \u001b[49m\u001b[43mcolumns\u001b[49m\u001b[43m,\u001b[49m\n\u001b[0;32m    848\u001b[0m \u001b[43m    \u001b[49m\u001b[43mprojection\u001b[49m\u001b[43m,\u001b[49m\n\u001b[0;32m    849\u001b[0m \u001b[43m    \u001b[49m\u001b[43mn_rows\u001b[49m\u001b[43m,\u001b[49m\n\u001b[0;32m    850\u001b[0m \u001b[43m    \u001b[49m\u001b[43mparallel\u001b[49m\u001b[43m,\u001b[49m\n\u001b[0;32m    851\u001b[0m \u001b[43m    \u001b[49m\u001b[43m_prepare_row_count_args\u001b[49m\u001b[43m(\u001b[49m\u001b[43mrow_count_name\u001b[49m\u001b[43m,\u001b[49m\u001b[43m \u001b[49m\u001b[43mrow_count_offset\u001b[49m\u001b[43m)\u001b[49m\u001b[43m,\u001b[49m\n\u001b[0;32m    852\u001b[0m \u001b[43m    \u001b[49m\u001b[43mlow_memory\u001b[49m\u001b[38;5;241;43m=\u001b[39;49m\u001b[43mlow_memory\u001b[49m\u001b[43m,\u001b[49m\n\u001b[0;32m    853\u001b[0m \u001b[43m    \u001b[49m\u001b[43muse_statistics\u001b[49m\u001b[38;5;241;43m=\u001b[39;49m\u001b[43muse_statistics\u001b[49m\u001b[43m,\u001b[49m\n\u001b[0;32m    854\u001b[0m \u001b[43m    \u001b[49m\u001b[43mrechunk\u001b[49m\u001b[38;5;241;43m=\u001b[39;49m\u001b[43mrechunk\u001b[49m\u001b[43m,\u001b[49m\n\u001b[0;32m    855\u001b[0m \u001b[43m\u001b[49m\u001b[43m)\u001b[49m\n\u001b[0;32m    856\u001b[0m \u001b[38;5;28;01mreturn\u001b[39;00m \u001b[38;5;28mself\u001b[39m\n",
      "\u001b[1;31mArrowErrorException\u001b[0m: ExternalFormat(\"File out of specification: The file must end with PAR1\")"
     ]
    }
   ],
   "source": [
    "dfs = []\n",
    "for fn in files_path:\n",
    "    print(fn)\n",
    "    df = pl.read_parquet(fn)\n",
    "    df = df.with_columns(\n",
    "            pl.col('ReadingTime').str.to_datetime('%Y-%m-%dT%H:%M:%SZ')\n",
    "        )\n",
    "\n",
    "#     df_ = df_approved_meters.join(\n",
    "#             df, left_on='Meterid', right_on='meter_num', how=\"inner\"\n",
    "#         ).join(df_approved_channels, on='channel_id', how=\"inner\").filter(\n",
    "#             pl.col('ReadingTime') >= pl.col('ApprovedDate')\n",
    "#         )\n",
    "    df_ = df_approved_meters.join(\n",
    "            df, left_on='Meterid', right_on='meter_num', how=\"inner\"\n",
    "        ).join(df_approved_channels, on='channel_id', how=\"inner\").filter(\n",
    "            pl.col('ReadingTime') >= pl.col('ApprovedDate')\n",
    "        )\n",
    "    \n",
    "    if len(df_) > 0:\n",
    "        dfs.append(df_)"
   ]
  },
  {
   "cell_type": "code",
   "execution_count": 317,
   "id": "af8837b6",
   "metadata": {},
   "outputs": [
    {
     "data": {
      "text/plain": [
       "147"
      ]
     },
     "execution_count": 317,
     "metadata": {},
     "output_type": "execute_result"
    }
   ],
   "source": [
    "len(dfs)"
   ]
  },
  {
   "cell_type": "code",
   "execution_count": 328,
   "id": "44f789f7",
   "metadata": {},
   "outputs": [
    {
     "data": {
      "text/html": [
       "<div><style>\n",
       ".dataframe > thead > tr > th,\n",
       ".dataframe > tbody > tr > td {\n",
       "  text-align: right;\n",
       "}\n",
       "</style>\n",
       "<small>shape: (5, 16)</small><table border=\"1\" class=\"dataframe\"><thead><tr><th>service_point_id</th><th>meter_id</th><th>timestamp</th><th>timezone</th><th>interval_value</th><th>interval_units</th><th>usage</th><th>energy_type</th><th>energy_units</th><th>energy_direction</th><th>is_estimate</th><th>is_outage</th><th>channel_id</th><th>is_deleted</th><th>update_datetime</th><th>CoCd</th></tr><tr><td>str</td><td>str</td><td>str</td><td>str</td><td>str</td><td>str</td><td>f64</td><td>str</td><td>str</td><td>str</td><td>bool</td><td>bool</td><td>str</td><td>str</td><td>str</td><td>str</td></tr></thead><tbody><tr><td>&quot;101732788&quot;</td><td>&quot;101732788&quot;</td><td>&quot;2023-06-19T01:…</td><td>&quot;EDT&quot;</td><td>&quot;60&quot;</td><td>&quot;minute&quot;</td><td>0.0</td><td>&quot;G&quot;</td><td>&quot;kCCF&quot;</td><td>&quot;N/A&quot;</td><td>false</td><td>false</td><td>&quot;N/A&quot;</td><td>&quot;false&quot;</td><td>&quot;2023-06-19T01:…</td><td>&quot;1000&quot;</td></tr><tr><td>&quot;101732788&quot;</td><td>&quot;101732788&quot;</td><td>&quot;2023-06-19T02:…</td><td>&quot;EDT&quot;</td><td>&quot;60&quot;</td><td>&quot;minute&quot;</td><td>0.0</td><td>&quot;G&quot;</td><td>&quot;kCCF&quot;</td><td>&quot;N/A&quot;</td><td>false</td><td>false</td><td>&quot;N/A&quot;</td><td>&quot;false&quot;</td><td>&quot;2023-06-19T02:…</td><td>&quot;1000&quot;</td></tr><tr><td>&quot;101732788&quot;</td><td>&quot;101732788&quot;</td><td>&quot;2023-06-19T03:…</td><td>&quot;EDT&quot;</td><td>&quot;60&quot;</td><td>&quot;minute&quot;</td><td>0.0</td><td>&quot;G&quot;</td><td>&quot;kCCF&quot;</td><td>&quot;N/A&quot;</td><td>false</td><td>false</td><td>&quot;N/A&quot;</td><td>&quot;false&quot;</td><td>&quot;2023-06-19T03:…</td><td>&quot;1000&quot;</td></tr><tr><td>&quot;101732788&quot;</td><td>&quot;101732788&quot;</td><td>&quot;2023-06-19T04:…</td><td>&quot;EDT&quot;</td><td>&quot;60&quot;</td><td>&quot;minute&quot;</td><td>0.0</td><td>&quot;G&quot;</td><td>&quot;kCCF&quot;</td><td>&quot;N/A&quot;</td><td>false</td><td>false</td><td>&quot;N/A&quot;</td><td>&quot;false&quot;</td><td>&quot;2023-06-19T04:…</td><td>&quot;1000&quot;</td></tr><tr><td>&quot;101732788&quot;</td><td>&quot;101732788&quot;</td><td>&quot;2023-06-19T05:…</td><td>&quot;EDT&quot;</td><td>&quot;60&quot;</td><td>&quot;minute&quot;</td><td>0.0</td><td>&quot;G&quot;</td><td>&quot;kCCF&quot;</td><td>&quot;N/A&quot;</td><td>false</td><td>false</td><td>&quot;N/A&quot;</td><td>&quot;false&quot;</td><td>&quot;2023-06-19T05:…</td><td>&quot;1000&quot;</td></tr></tbody></table></div>"
      ],
      "text/plain": [
       "shape: (5, 16)\n",
       "┌──────────────────┬───────────┬───────────────────┬──────────┬───┬────────────┬────────────┬───────────────────┬──────┐\n",
       "│ service_point_id ┆ meter_id  ┆ timestamp         ┆ timezone ┆ … ┆ channel_id ┆ is_deleted ┆ update_datetime   ┆ CoCd │\n",
       "│ ---              ┆ ---       ┆ ---               ┆ ---      ┆   ┆ ---        ┆ ---        ┆ ---               ┆ ---  │\n",
       "│ str              ┆ str       ┆ str               ┆ str      ┆   ┆ str        ┆ str        ┆ str               ┆ str  │\n",
       "╞══════════════════╪═══════════╪═══════════════════╪══════════╪═══╪════════════╪════════════╪═══════════════════╪══════╡\n",
       "│ 101732788        ┆ 101732788 ┆ 2023-06-19T01:00: ┆ EDT      ┆ … ┆ N/A        ┆ false      ┆ 2023-06-19T01:00: ┆ 1000 │\n",
       "│                  ┆           ┆ 00.000-04:00      ┆          ┆   ┆            ┆            ┆ 00.000-04:00      ┆      │\n",
       "│ 101732788        ┆ 101732788 ┆ 2023-06-19T02:00: ┆ EDT      ┆ … ┆ N/A        ┆ false      ┆ 2023-06-19T02:00: ┆ 1000 │\n",
       "│                  ┆           ┆ 00.000-04:00      ┆          ┆   ┆            ┆            ┆ 00.000-04:00      ┆      │\n",
       "│ 101732788        ┆ 101732788 ┆ 2023-06-19T03:00: ┆ EDT      ┆ … ┆ N/A        ┆ false      ┆ 2023-06-19T03:00: ┆ 1000 │\n",
       "│                  ┆           ┆ 00.000-04:00      ┆          ┆   ┆            ┆            ┆ 00.000-04:00      ┆      │\n",
       "│ 101732788        ┆ 101732788 ┆ 2023-06-19T04:00: ┆ EDT      ┆ … ┆ N/A        ┆ false      ┆ 2023-06-19T04:00: ┆ 1000 │\n",
       "│                  ┆           ┆ 00.000-04:00      ┆          ┆   ┆            ┆            ┆ 00.000-04:00      ┆      │\n",
       "│ 101732788        ┆ 101732788 ┆ 2023-06-19T05:00: ┆ EDT      ┆ … ┆ N/A        ┆ false      ┆ 2023-06-19T05:00: ┆ 1000 │\n",
       "│                  ┆           ┆ 00.000-04:00      ┆          ┆   ┆            ┆            ┆ 00.000-04:00      ┆      │\n",
       "└──────────────────┴───────────┴───────────────────┴──────────┴───┴────────────┴────────────┴───────────────────┴──────┘"
      ]
     },
     "execution_count": 328,
     "metadata": {},
     "output_type": "execute_result"
    }
   ],
   "source": [
    "df_finals = [filter_dataframe(df_) for df_ in dfs]\n",
    "df_finals[0].head()"
   ]
  },
  {
   "cell_type": "code",
   "execution_count": 329,
   "id": "5c595b90",
   "metadata": {},
   "outputs": [
    {
     "data": {
      "text/html": [
       "<div><style>\n",
       ".dataframe > thead > tr > th,\n",
       ".dataframe > tbody > tr > td {\n",
       "  text-align: right;\n",
       "}\n",
       "</style>\n",
       "<small>shape: (5, 16)</small><table border=\"1\" class=\"dataframe\"><thead><tr><th>service_point_id</th><th>meter_id</th><th>timestamp</th><th>timezone</th><th>interval_value</th><th>interval_units</th><th>usage</th><th>energy_type</th><th>energy_units</th><th>energy_direction</th><th>is_estimate</th><th>is_outage</th><th>channel_id</th><th>is_deleted</th><th>update_datetime</th><th>CoCd</th></tr><tr><td>str</td><td>str</td><td>str</td><td>str</td><td>str</td><td>str</td><td>f64</td><td>str</td><td>str</td><td>str</td><td>bool</td><td>bool</td><td>str</td><td>str</td><td>str</td><td>str</td></tr></thead><tbody><tr><td>&quot;101732788&quot;</td><td>&quot;101732788&quot;</td><td>&quot;2023-06-19T01:…</td><td>&quot;EDT&quot;</td><td>&quot;60&quot;</td><td>&quot;minute&quot;</td><td>0.0</td><td>&quot;G&quot;</td><td>&quot;kCCF&quot;</td><td>&quot;N/A&quot;</td><td>false</td><td>false</td><td>&quot;N/A&quot;</td><td>&quot;false&quot;</td><td>&quot;2023-06-19T01:…</td><td>&quot;1000&quot;</td></tr><tr><td>&quot;101732788&quot;</td><td>&quot;101732788&quot;</td><td>&quot;2023-06-19T02:…</td><td>&quot;EDT&quot;</td><td>&quot;60&quot;</td><td>&quot;minute&quot;</td><td>0.0</td><td>&quot;G&quot;</td><td>&quot;kCCF&quot;</td><td>&quot;N/A&quot;</td><td>false</td><td>false</td><td>&quot;N/A&quot;</td><td>&quot;false&quot;</td><td>&quot;2023-06-19T02:…</td><td>&quot;1000&quot;</td></tr><tr><td>&quot;101732788&quot;</td><td>&quot;101732788&quot;</td><td>&quot;2023-06-19T03:…</td><td>&quot;EDT&quot;</td><td>&quot;60&quot;</td><td>&quot;minute&quot;</td><td>0.0</td><td>&quot;G&quot;</td><td>&quot;kCCF&quot;</td><td>&quot;N/A&quot;</td><td>false</td><td>false</td><td>&quot;N/A&quot;</td><td>&quot;false&quot;</td><td>&quot;2023-06-19T03:…</td><td>&quot;1000&quot;</td></tr><tr><td>&quot;101732788&quot;</td><td>&quot;101732788&quot;</td><td>&quot;2023-06-19T04:…</td><td>&quot;EDT&quot;</td><td>&quot;60&quot;</td><td>&quot;minute&quot;</td><td>0.0</td><td>&quot;G&quot;</td><td>&quot;kCCF&quot;</td><td>&quot;N/A&quot;</td><td>false</td><td>false</td><td>&quot;N/A&quot;</td><td>&quot;false&quot;</td><td>&quot;2023-06-19T04:…</td><td>&quot;1000&quot;</td></tr><tr><td>&quot;101732788&quot;</td><td>&quot;101732788&quot;</td><td>&quot;2023-06-19T05:…</td><td>&quot;EDT&quot;</td><td>&quot;60&quot;</td><td>&quot;minute&quot;</td><td>0.0</td><td>&quot;G&quot;</td><td>&quot;kCCF&quot;</td><td>&quot;N/A&quot;</td><td>false</td><td>false</td><td>&quot;N/A&quot;</td><td>&quot;false&quot;</td><td>&quot;2023-06-19T05:…</td><td>&quot;1000&quot;</td></tr></tbody></table></div>"
      ],
      "text/plain": [
       "shape: (5, 16)\n",
       "┌──────────────────┬───────────┬───────────────────┬──────────┬───┬────────────┬────────────┬───────────────────┬──────┐\n",
       "│ service_point_id ┆ meter_id  ┆ timestamp         ┆ timezone ┆ … ┆ channel_id ┆ is_deleted ┆ update_datetime   ┆ CoCd │\n",
       "│ ---              ┆ ---       ┆ ---               ┆ ---      ┆   ┆ ---        ┆ ---        ┆ ---               ┆ ---  │\n",
       "│ str              ┆ str       ┆ str               ┆ str      ┆   ┆ str        ┆ str        ┆ str               ┆ str  │\n",
       "╞══════════════════╪═══════════╪═══════════════════╪══════════╪═══╪════════════╪════════════╪═══════════════════╪══════╡\n",
       "│ 101732788        ┆ 101732788 ┆ 2023-06-19T01:00: ┆ EDT      ┆ … ┆ N/A        ┆ false      ┆ 2023-06-19T01:00: ┆ 1000 │\n",
       "│                  ┆           ┆ 00.000-04:00      ┆          ┆   ┆            ┆            ┆ 00.000-04:00      ┆      │\n",
       "│ 101732788        ┆ 101732788 ┆ 2023-06-19T02:00: ┆ EDT      ┆ … ┆ N/A        ┆ false      ┆ 2023-06-19T02:00: ┆ 1000 │\n",
       "│                  ┆           ┆ 00.000-04:00      ┆          ┆   ┆            ┆            ┆ 00.000-04:00      ┆      │\n",
       "│ 101732788        ┆ 101732788 ┆ 2023-06-19T03:00: ┆ EDT      ┆ … ┆ N/A        ┆ false      ┆ 2023-06-19T03:00: ┆ 1000 │\n",
       "│                  ┆           ┆ 00.000-04:00      ┆          ┆   ┆            ┆            ┆ 00.000-04:00      ┆      │\n",
       "│ 101732788        ┆ 101732788 ┆ 2023-06-19T04:00: ┆ EDT      ┆ … ┆ N/A        ┆ false      ┆ 2023-06-19T04:00: ┆ 1000 │\n",
       "│                  ┆           ┆ 00.000-04:00      ┆          ┆   ┆            ┆            ┆ 00.000-04:00      ┆      │\n",
       "│ 101732788        ┆ 101732788 ┆ 2023-06-19T05:00: ┆ EDT      ┆ … ┆ N/A        ┆ false      ┆ 2023-06-19T05:00: ┆ 1000 │\n",
       "│                  ┆           ┆ 00.000-04:00      ┆          ┆   ┆            ┆            ┆ 00.000-04:00      ┆      │\n",
       "└──────────────────┴───────────┴───────────────────┴──────────┴───┴────────────┴────────────┴───────────────────┴──────┘"
      ]
     },
     "execution_count": 329,
     "metadata": {},
     "output_type": "execute_result"
    }
   ],
   "source": [
    "df_final = pl.concat(df_finals)\n",
    "df_final.head()"
   ]
  },
  {
   "cell_type": "code",
   "execution_count": 302,
   "id": "9871d00c",
   "metadata": {},
   "outputs": [],
   "source": [
    "def save_tsv_file_manifest(df, opco, phase, output_folder):\n",
    "    rows_manifest = []\n",
    "    for c in range(0, len(df), max_rows):\n",
    "        date_str = datetime.now().strftime(\"%Y%m%d-%H%M%S%f\")[:-3]\n",
    "        tsv_filename = f'avangrid-energymanager-{opco}_intervalusage_{phase}_{date_str}.tsv'\n",
    "        # Chunk the dataframe\n",
    "        df_tmp = df[c:c + max_rows]\n",
    "        full_path = os.path.join(output_folder, tsv_filename)\n",
    "        \n",
    "        df_tmp.write_csv(full_path, has_header=False, float_precision=3, separator='\\t')\n",
    "        \n",
    "        # Append the manifest\n",
    "        with open(full_path, 'rb') as f:\n",
    "            # Check the size of the file\n",
    "            f.seek(0, os.SEEK_END)\n",
    "            file_size = f.tell()\n",
    "            # Back to the pointer to the begining of the file\n",
    "            f.seek(os.SEEK_SET)\n",
    "\n",
    "            # Compute the MD5 of the file\n",
    "            md5_checksum = hashlib.md5(f.read()).hexdigest()\n",
    "\n",
    "            rows_manifest.append({\n",
    "                \"file_name\": tsv_filename,\n",
    "                \"file_size\": file_size,\n",
    "                \"md5_checksum\": md5_checksum,\n",
    "                \"line_count\": len(df_tmp)\n",
    "            })\n",
    "\n",
    "    date_str = datetime.now().strftime(\"%Y%m%d-%H%M%S%f\")[:-3]\n",
    "    manifest_file_name = f'avangrid-energymanager-{opco}_manifestmdm_{phase}_{date_str}.tsv'\n",
    "    pd.DataFrame(rows_manifest).to_csv(os.path.join(output_folder, manifest_file_name), header=True, index=False, sep ='\\t', lineterminator='\\r\\n')"
   ]
  },
  {
   "cell_type": "code",
   "execution_count": 303,
   "id": "f8e6b26d",
   "metadata": {},
   "outputs": [],
   "source": [
    "def split_saved_tsv_files(df_final_, output_folder, divide_opcos=False, phase='uat', max_rows = 10_000_000):\n",
    "    # phase = 'uat' # 'prod'\n",
    "    # Group by opco\n",
    "    if divide_opcos:\n",
    "        for cocd, df_opco in df_final_.partition_by(by='CoCd', maintain_order=True, as_dict=True).items():\n",
    "            opco = opco_dict[cocd]\n",
    "            df_opco = df_opco.select(*list_final_order_file)\n",
    "            save_tsv_file_manifest(df_opco, opco, phase, output_folder)\n",
    "    else:\n",
    "        df_opco = df_final_.select(*list_final_order_file)\n",
    "        save_tsv_file_manifest(df_opco, 'ALL', phase, output_folder)"
   ]
  },
  {
   "cell_type": "code",
   "execution_count": 330,
   "id": "97965386",
   "metadata": {},
   "outputs": [],
   "source": [
    "split_saved_tsv_files(df_final, 'output_gas', False)"
   ]
  },
  {
   "cell_type": "code",
   "execution_count": 331,
   "id": "1f640017",
   "metadata": {},
   "outputs": [
    {
     "data": {
      "text/html": [
       "<div><style>\n",
       ".dataframe > thead > tr > th,\n",
       ".dataframe > tbody > tr > td {\n",
       "  text-align: right;\n",
       "}\n",
       "</style>\n",
       "<small>shape: (5, 16)</small><table border=\"1\" class=\"dataframe\"><thead><tr><th>service_point_id</th><th>meter_id</th><th>timestamp</th><th>timezone</th><th>interval_value</th><th>interval_units</th><th>usage</th><th>energy_type</th><th>energy_units</th><th>energy_direction</th><th>is_estimate</th><th>is_outage</th><th>channel_id</th><th>is_deleted</th><th>update_datetime</th><th>CoCd</th></tr><tr><td>str</td><td>str</td><td>str</td><td>str</td><td>str</td><td>str</td><td>f64</td><td>str</td><td>str</td><td>str</td><td>bool</td><td>bool</td><td>str</td><td>str</td><td>str</td><td>str</td></tr></thead><tbody><tr><td>&quot;101732788&quot;</td><td>&quot;101732788&quot;</td><td>&quot;2023-06-19T01:…</td><td>&quot;EDT&quot;</td><td>&quot;60&quot;</td><td>&quot;minute&quot;</td><td>0.0</td><td>&quot;G&quot;</td><td>&quot;kCCF&quot;</td><td>&quot;N/A&quot;</td><td>false</td><td>false</td><td>&quot;N/A&quot;</td><td>&quot;false&quot;</td><td>&quot;2023-06-19T01:…</td><td>&quot;1000&quot;</td></tr><tr><td>&quot;101732788&quot;</td><td>&quot;101732788&quot;</td><td>&quot;2023-06-19T02:…</td><td>&quot;EDT&quot;</td><td>&quot;60&quot;</td><td>&quot;minute&quot;</td><td>0.0</td><td>&quot;G&quot;</td><td>&quot;kCCF&quot;</td><td>&quot;N/A&quot;</td><td>false</td><td>false</td><td>&quot;N/A&quot;</td><td>&quot;false&quot;</td><td>&quot;2023-06-19T02:…</td><td>&quot;1000&quot;</td></tr><tr><td>&quot;101732788&quot;</td><td>&quot;101732788&quot;</td><td>&quot;2023-06-19T03:…</td><td>&quot;EDT&quot;</td><td>&quot;60&quot;</td><td>&quot;minute&quot;</td><td>0.0</td><td>&quot;G&quot;</td><td>&quot;kCCF&quot;</td><td>&quot;N/A&quot;</td><td>false</td><td>false</td><td>&quot;N/A&quot;</td><td>&quot;false&quot;</td><td>&quot;2023-06-19T03:…</td><td>&quot;1000&quot;</td></tr><tr><td>&quot;101732788&quot;</td><td>&quot;101732788&quot;</td><td>&quot;2023-06-19T04:…</td><td>&quot;EDT&quot;</td><td>&quot;60&quot;</td><td>&quot;minute&quot;</td><td>0.0</td><td>&quot;G&quot;</td><td>&quot;kCCF&quot;</td><td>&quot;N/A&quot;</td><td>false</td><td>false</td><td>&quot;N/A&quot;</td><td>&quot;false&quot;</td><td>&quot;2023-06-19T04:…</td><td>&quot;1000&quot;</td></tr><tr><td>&quot;101732788&quot;</td><td>&quot;101732788&quot;</td><td>&quot;2023-06-19T05:…</td><td>&quot;EDT&quot;</td><td>&quot;60&quot;</td><td>&quot;minute&quot;</td><td>0.0</td><td>&quot;G&quot;</td><td>&quot;kCCF&quot;</td><td>&quot;N/A&quot;</td><td>false</td><td>false</td><td>&quot;N/A&quot;</td><td>&quot;false&quot;</td><td>&quot;2023-06-19T05:…</td><td>&quot;1000&quot;</td></tr></tbody></table></div>"
      ],
      "text/plain": [
       "shape: (5, 16)\n",
       "┌──────────────────┬───────────┬───────────────────┬──────────┬───┬────────────┬────────────┬───────────────────┬──────┐\n",
       "│ service_point_id ┆ meter_id  ┆ timestamp         ┆ timezone ┆ … ┆ channel_id ┆ is_deleted ┆ update_datetime   ┆ CoCd │\n",
       "│ ---              ┆ ---       ┆ ---               ┆ ---      ┆   ┆ ---        ┆ ---        ┆ ---               ┆ ---  │\n",
       "│ str              ┆ str       ┆ str               ┆ str      ┆   ┆ str        ┆ str        ┆ str               ┆ str  │\n",
       "╞══════════════════╪═══════════╪═══════════════════╪══════════╪═══╪════════════╪════════════╪═══════════════════╪══════╡\n",
       "│ 101732788        ┆ 101732788 ┆ 2023-06-19T01:00: ┆ EDT      ┆ … ┆ N/A        ┆ false      ┆ 2023-06-19T01:00: ┆ 1000 │\n",
       "│                  ┆           ┆ 00.000-04:00      ┆          ┆   ┆            ┆            ┆ 00.000-04:00      ┆      │\n",
       "│ 101732788        ┆ 101732788 ┆ 2023-06-19T02:00: ┆ EDT      ┆ … ┆ N/A        ┆ false      ┆ 2023-06-19T02:00: ┆ 1000 │\n",
       "│                  ┆           ┆ 00.000-04:00      ┆          ┆   ┆            ┆            ┆ 00.000-04:00      ┆      │\n",
       "│ 101732788        ┆ 101732788 ┆ 2023-06-19T03:00: ┆ EDT      ┆ … ┆ N/A        ┆ false      ┆ 2023-06-19T03:00: ┆ 1000 │\n",
       "│                  ┆           ┆ 00.000-04:00      ┆          ┆   ┆            ┆            ┆ 00.000-04:00      ┆      │\n",
       "│ 101732788        ┆ 101732788 ┆ 2023-06-19T04:00: ┆ EDT      ┆ … ┆ N/A        ┆ false      ┆ 2023-06-19T04:00: ┆ 1000 │\n",
       "│                  ┆           ┆ 00.000-04:00      ┆          ┆   ┆            ┆            ┆ 00.000-04:00      ┆      │\n",
       "│ 101732788        ┆ 101732788 ┆ 2023-06-19T05:00: ┆ EDT      ┆ … ┆ N/A        ┆ false      ┆ 2023-06-19T05:00: ┆ 1000 │\n",
       "│                  ┆           ┆ 00.000-04:00      ┆          ┆   ┆            ┆            ┆ 00.000-04:00      ┆      │\n",
       "└──────────────────┴───────────┴───────────────────┴──────────┴───┴────────────┴────────────┴───────────────────┴──────┘"
      ]
     },
     "execution_count": 331,
     "metadata": {},
     "output_type": "execute_result"
    }
   ],
   "source": [
    "df_final.head()"
   ]
  },
  {
   "cell_type": "code",
   "execution_count": 311,
   "id": "070f593e",
   "metadata": {},
   "outputs": [
    {
     "data": {
      "text/html": [
       "<div><style>\n",
       ".dataframe > thead > tr > th,\n",
       ".dataframe > tbody > tr > td {\n",
       "  text-align: right;\n",
       "}\n",
       "</style>\n",
       "<small>shape: (0, 17)</small><table border=\"1\" class=\"dataframe\"><thead><tr><th>Meterid</th><th>ApprovedDate</th><th>CoCd</th><th>service_point_id</th><th>timestamp</th><th>timezone</th><th>interval_value</th><th>interval_units</th><th>usage</th><th>energy_type</th><th>energy_units</th><th>energy_direction</th><th>is_estimate</th><th>is_outage</th><th>channel_id</th><th>is_deleted</th><th>update_datetime</th></tr><tr><td>str</td><td>datetime[μs]</td><td>str</td><td>str</td><td>str</td><td>str</td><td>str</td><td>str</td><td>f64</td><td>str</td><td>str</td><td>str</td><td>bool</td><td>bool</td><td>str</td><td>str</td><td>str</td></tr></thead><tbody></tbody></table></div>"
      ],
      "text/plain": [
       "shape: (0, 17)\n",
       "┌─────────┬──────────────┬──────┬──────────────────┬───┬───────────┬────────────┬────────────┬─────────────────┐\n",
       "│ Meterid ┆ ApprovedDate ┆ CoCd ┆ service_point_id ┆ … ┆ is_outage ┆ channel_id ┆ is_deleted ┆ update_datetime │\n",
       "│ ---     ┆ ---          ┆ ---  ┆ ---              ┆   ┆ ---       ┆ ---        ┆ ---        ┆ ---             │\n",
       "│ str     ┆ datetime[μs] ┆ str  ┆ str              ┆   ┆ bool      ┆ str        ┆ str        ┆ str             │\n",
       "╞═════════╪══════════════╪══════╪══════════════════╪═══╪═══════════╪════════════╪════════════╪═════════════════╡\n",
       "└─────────┴──────────────┴──────┴──────────────────┴───┴───────────┴────────────┴────────────┴─────────────────┘"
      ]
     },
     "execution_count": 311,
     "metadata": {},
     "output_type": "execute_result"
    }
   ],
   "source": [
    "df_gas_nyseg.select('Meterid', 'ApprovedDate', 'CoCd').unique().join(df_final, left_on=['Meterid', 'CoCd'], right_on=['meter_id', 'CoCd']).head()"
   ]
  },
  {
   "cell_type": "code",
   "execution_count": 312,
   "id": "c1870b20",
   "metadata": {},
   "outputs": [
    {
     "data": {
      "text/html": [
       "<div><style>\n",
       ".dataframe > thead > tr > th,\n",
       ".dataframe > tbody > tr > td {\n",
       "  text-align: right;\n",
       "}\n",
       "</style>\n",
       "<small>shape: (0, 17)</small><table border=\"1\" class=\"dataframe\"><thead><tr><th>Meterid</th><th>ApprovedDate</th><th>CoCd</th><th>service_point_id</th><th>timestamp</th><th>timezone</th><th>interval_value</th><th>interval_units</th><th>usage</th><th>energy_type</th><th>energy_units</th><th>energy_direction</th><th>is_estimate</th><th>is_outage</th><th>channel_id</th><th>is_deleted</th><th>update_datetime</th></tr><tr><td>str</td><td>datetime[μs]</td><td>str</td><td>str</td><td>str</td><td>str</td><td>str</td><td>str</td><td>f64</td><td>str</td><td>str</td><td>str</td><td>bool</td><td>bool</td><td>str</td><td>str</td><td>str</td></tr></thead><tbody></tbody></table></div>"
      ],
      "text/plain": [
       "shape: (0, 17)\n",
       "┌─────────┬──────────────┬──────┬──────────────────┬───┬───────────┬────────────┬────────────┬─────────────────┐\n",
       "│ Meterid ┆ ApprovedDate ┆ CoCd ┆ service_point_id ┆ … ┆ is_outage ┆ channel_id ┆ is_deleted ┆ update_datetime │\n",
       "│ ---     ┆ ---          ┆ ---  ┆ ---              ┆   ┆ ---       ┆ ---        ┆ ---        ┆ ---             │\n",
       "│ str     ┆ datetime[μs] ┆ str  ┆ str              ┆   ┆ bool      ┆ str        ┆ str        ┆ str             │\n",
       "╞═════════╪══════════════╪══════╪══════════════════╪═══╪═══════════╪════════════╪════════════╪═════════════════╡\n",
       "└─────────┴──────────────┴──────┴──────────────────┴───┴───────────┴────────────┴────────────┴─────────────────┘"
      ]
     },
     "execution_count": 312,
     "metadata": {},
     "output_type": "execute_result"
    }
   ],
   "source": [
    "df_gas_rge.select('Meterid', 'ApprovedDate', 'CoCd').unique().join(df_final, left_on=['Meterid', 'CoCd'], right_on=['meter_id', 'CoCd']).head()"
   ]
  },
  {
   "cell_type": "code",
   "execution_count": null,
   "id": "737aef02",
   "metadata": {},
   "outputs": [],
   "source": []
  }
 ],
 "metadata": {
  "kernelspec": {
   "display_name": "Python 3 (ipykernel)",
   "language": "python",
   "name": "python3"
  },
  "language_info": {
   "codemirror_mode": {
    "name": "ipython",
    "version": 3
   },
   "file_extension": ".py",
   "mimetype": "text/x-python",
   "name": "python",
   "nbconvert_exporter": "python",
   "pygments_lexer": "ipython3",
   "version": "3.11.3"
  }
 },
 "nbformat": 4,
 "nbformat_minor": 5
}
